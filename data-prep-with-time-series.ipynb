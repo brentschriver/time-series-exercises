{
 "cells": [
  {
   "cell_type": "code",
   "execution_count": 1,
   "id": "8ff8f626",
   "metadata": {},
   "outputs": [],
   "source": [
    "import acquire\n",
    "from acquire import get_store_data\n",
    "from acquire import get_power_data\n",
    "import pandas as pd\n",
    "from matplotlib import pyplot as plt"
   ]
  },
  {
   "cell_type": "code",
   "execution_count": 2,
   "id": "860cb280",
   "metadata": {},
   "outputs": [
    {
     "name": "stdout",
     "output_type": "stream",
     "text": [
      "Data is cached. Reading from .csv files\n",
      "Items data acquired...\n",
      "Stores data acquired...\n",
      "Sales data acquired...\n",
      "Acquisition complete\n"
     ]
    }
   ],
   "source": [
    "sales = get_store_data()"
   ]
  },
  {
   "cell_type": "code",
   "execution_count": 3,
   "id": "fab72a17",
   "metadata": {},
   "outputs": [
    {
     "data": {
      "text/html": [
       "<div>\n",
       "<style scoped>\n",
       "    .dataframe tbody tr th:only-of-type {\n",
       "        vertical-align: middle;\n",
       "    }\n",
       "\n",
       "    .dataframe tbody tr th {\n",
       "        vertical-align: top;\n",
       "    }\n",
       "\n",
       "    .dataframe thead th {\n",
       "        text-align: right;\n",
       "    }\n",
       "</style>\n",
       "<table border=\"1\" class=\"dataframe\">\n",
       "  <thead>\n",
       "    <tr style=\"text-align: right;\">\n",
       "      <th></th>\n",
       "      <th>sale_amount</th>\n",
       "      <th>sale_date</th>\n",
       "      <th>sale_id</th>\n",
       "      <th>item_brand</th>\n",
       "      <th>item_id</th>\n",
       "      <th>item_name</th>\n",
       "      <th>item_price</th>\n",
       "      <th>item_upc12</th>\n",
       "      <th>item_upc14</th>\n",
       "      <th>store_address</th>\n",
       "      <th>store_city</th>\n",
       "      <th>store_id</th>\n",
       "      <th>store_state</th>\n",
       "      <th>store_zipcode</th>\n",
       "    </tr>\n",
       "  </thead>\n",
       "  <tbody>\n",
       "    <tr>\n",
       "      <th>0</th>\n",
       "      <td>13.0</td>\n",
       "      <td>Tue, 01 Jan 2013 00:00:00 GMT</td>\n",
       "      <td>1</td>\n",
       "      <td>Riceland</td>\n",
       "      <td>1</td>\n",
       "      <td>Riceland American Jazmine Rice</td>\n",
       "      <td>0.84</td>\n",
       "      <td>35200264013</td>\n",
       "      <td>35200264013</td>\n",
       "      <td>12125 Alamo Ranch Pkwy</td>\n",
       "      <td>San Antonio</td>\n",
       "      <td>1</td>\n",
       "      <td>TX</td>\n",
       "      <td>78253</td>\n",
       "    </tr>\n",
       "    <tr>\n",
       "      <th>1</th>\n",
       "      <td>11.0</td>\n",
       "      <td>Wed, 02 Jan 2013 00:00:00 GMT</td>\n",
       "      <td>2</td>\n",
       "      <td>Riceland</td>\n",
       "      <td>1</td>\n",
       "      <td>Riceland American Jazmine Rice</td>\n",
       "      <td>0.84</td>\n",
       "      <td>35200264013</td>\n",
       "      <td>35200264013</td>\n",
       "      <td>12125 Alamo Ranch Pkwy</td>\n",
       "      <td>San Antonio</td>\n",
       "      <td>1</td>\n",
       "      <td>TX</td>\n",
       "      <td>78253</td>\n",
       "    </tr>\n",
       "    <tr>\n",
       "      <th>2</th>\n",
       "      <td>14.0</td>\n",
       "      <td>Thu, 03 Jan 2013 00:00:00 GMT</td>\n",
       "      <td>3</td>\n",
       "      <td>Riceland</td>\n",
       "      <td>1</td>\n",
       "      <td>Riceland American Jazmine Rice</td>\n",
       "      <td>0.84</td>\n",
       "      <td>35200264013</td>\n",
       "      <td>35200264013</td>\n",
       "      <td>12125 Alamo Ranch Pkwy</td>\n",
       "      <td>San Antonio</td>\n",
       "      <td>1</td>\n",
       "      <td>TX</td>\n",
       "      <td>78253</td>\n",
       "    </tr>\n",
       "    <tr>\n",
       "      <th>3</th>\n",
       "      <td>13.0</td>\n",
       "      <td>Fri, 04 Jan 2013 00:00:00 GMT</td>\n",
       "      <td>4</td>\n",
       "      <td>Riceland</td>\n",
       "      <td>1</td>\n",
       "      <td>Riceland American Jazmine Rice</td>\n",
       "      <td>0.84</td>\n",
       "      <td>35200264013</td>\n",
       "      <td>35200264013</td>\n",
       "      <td>12125 Alamo Ranch Pkwy</td>\n",
       "      <td>San Antonio</td>\n",
       "      <td>1</td>\n",
       "      <td>TX</td>\n",
       "      <td>78253</td>\n",
       "    </tr>\n",
       "    <tr>\n",
       "      <th>4</th>\n",
       "      <td>10.0</td>\n",
       "      <td>Sat, 05 Jan 2013 00:00:00 GMT</td>\n",
       "      <td>5</td>\n",
       "      <td>Riceland</td>\n",
       "      <td>1</td>\n",
       "      <td>Riceland American Jazmine Rice</td>\n",
       "      <td>0.84</td>\n",
       "      <td>35200264013</td>\n",
       "      <td>35200264013</td>\n",
       "      <td>12125 Alamo Ranch Pkwy</td>\n",
       "      <td>San Antonio</td>\n",
       "      <td>1</td>\n",
       "      <td>TX</td>\n",
       "      <td>78253</td>\n",
       "    </tr>\n",
       "    <tr>\n",
       "      <th>...</th>\n",
       "      <td>...</td>\n",
       "      <td>...</td>\n",
       "      <td>...</td>\n",
       "      <td>...</td>\n",
       "      <td>...</td>\n",
       "      <td>...</td>\n",
       "      <td>...</td>\n",
       "      <td>...</td>\n",
       "      <td>...</td>\n",
       "      <td>...</td>\n",
       "      <td>...</td>\n",
       "      <td>...</td>\n",
       "      <td>...</td>\n",
       "      <td>...</td>\n",
       "    </tr>\n",
       "    <tr>\n",
       "      <th>912995</th>\n",
       "      <td>63.0</td>\n",
       "      <td>Wed, 27 Dec 2017 00:00:00 GMT</td>\n",
       "      <td>912996</td>\n",
       "      <td>Choice</td>\n",
       "      <td>50</td>\n",
       "      <td>Choice Organic Teas Black Tea Classic Black - ...</td>\n",
       "      <td>5.20</td>\n",
       "      <td>47445919221</td>\n",
       "      <td>47445919221</td>\n",
       "      <td>8503 NW Military Hwy</td>\n",
       "      <td>San Antonio</td>\n",
       "      <td>10</td>\n",
       "      <td>TX</td>\n",
       "      <td>78231</td>\n",
       "    </tr>\n",
       "    <tr>\n",
       "      <th>912996</th>\n",
       "      <td>59.0</td>\n",
       "      <td>Thu, 28 Dec 2017 00:00:00 GMT</td>\n",
       "      <td>912997</td>\n",
       "      <td>Choice</td>\n",
       "      <td>50</td>\n",
       "      <td>Choice Organic Teas Black Tea Classic Black - ...</td>\n",
       "      <td>5.20</td>\n",
       "      <td>47445919221</td>\n",
       "      <td>47445919221</td>\n",
       "      <td>8503 NW Military Hwy</td>\n",
       "      <td>San Antonio</td>\n",
       "      <td>10</td>\n",
       "      <td>TX</td>\n",
       "      <td>78231</td>\n",
       "    </tr>\n",
       "    <tr>\n",
       "      <th>912997</th>\n",
       "      <td>74.0</td>\n",
       "      <td>Fri, 29 Dec 2017 00:00:00 GMT</td>\n",
       "      <td>912998</td>\n",
       "      <td>Choice</td>\n",
       "      <td>50</td>\n",
       "      <td>Choice Organic Teas Black Tea Classic Black - ...</td>\n",
       "      <td>5.20</td>\n",
       "      <td>47445919221</td>\n",
       "      <td>47445919221</td>\n",
       "      <td>8503 NW Military Hwy</td>\n",
       "      <td>San Antonio</td>\n",
       "      <td>10</td>\n",
       "      <td>TX</td>\n",
       "      <td>78231</td>\n",
       "    </tr>\n",
       "    <tr>\n",
       "      <th>912998</th>\n",
       "      <td>62.0</td>\n",
       "      <td>Sat, 30 Dec 2017 00:00:00 GMT</td>\n",
       "      <td>912999</td>\n",
       "      <td>Choice</td>\n",
       "      <td>50</td>\n",
       "      <td>Choice Organic Teas Black Tea Classic Black - ...</td>\n",
       "      <td>5.20</td>\n",
       "      <td>47445919221</td>\n",
       "      <td>47445919221</td>\n",
       "      <td>8503 NW Military Hwy</td>\n",
       "      <td>San Antonio</td>\n",
       "      <td>10</td>\n",
       "      <td>TX</td>\n",
       "      <td>78231</td>\n",
       "    </tr>\n",
       "    <tr>\n",
       "      <th>912999</th>\n",
       "      <td>82.0</td>\n",
       "      <td>Sun, 31 Dec 2017 00:00:00 GMT</td>\n",
       "      <td>913000</td>\n",
       "      <td>Choice</td>\n",
       "      <td>50</td>\n",
       "      <td>Choice Organic Teas Black Tea Classic Black - ...</td>\n",
       "      <td>5.20</td>\n",
       "      <td>47445919221</td>\n",
       "      <td>47445919221</td>\n",
       "      <td>8503 NW Military Hwy</td>\n",
       "      <td>San Antonio</td>\n",
       "      <td>10</td>\n",
       "      <td>TX</td>\n",
       "      <td>78231</td>\n",
       "    </tr>\n",
       "  </tbody>\n",
       "</table>\n",
       "<p>913000 rows × 14 columns</p>\n",
       "</div>"
      ],
      "text/plain": [
       "        sale_amount                      sale_date  sale_id item_brand  \\\n",
       "0              13.0  Tue, 01 Jan 2013 00:00:00 GMT        1   Riceland   \n",
       "1              11.0  Wed, 02 Jan 2013 00:00:00 GMT        2   Riceland   \n",
       "2              14.0  Thu, 03 Jan 2013 00:00:00 GMT        3   Riceland   \n",
       "3              13.0  Fri, 04 Jan 2013 00:00:00 GMT        4   Riceland   \n",
       "4              10.0  Sat, 05 Jan 2013 00:00:00 GMT        5   Riceland   \n",
       "...             ...                            ...      ...        ...   \n",
       "912995         63.0  Wed, 27 Dec 2017 00:00:00 GMT   912996     Choice   \n",
       "912996         59.0  Thu, 28 Dec 2017 00:00:00 GMT   912997     Choice   \n",
       "912997         74.0  Fri, 29 Dec 2017 00:00:00 GMT   912998     Choice   \n",
       "912998         62.0  Sat, 30 Dec 2017 00:00:00 GMT   912999     Choice   \n",
       "912999         82.0  Sun, 31 Dec 2017 00:00:00 GMT   913000     Choice   \n",
       "\n",
       "        item_id                                          item_name  \\\n",
       "0             1                     Riceland American Jazmine Rice   \n",
       "1             1                     Riceland American Jazmine Rice   \n",
       "2             1                     Riceland American Jazmine Rice   \n",
       "3             1                     Riceland American Jazmine Rice   \n",
       "4             1                     Riceland American Jazmine Rice   \n",
       "...         ...                                                ...   \n",
       "912995       50  Choice Organic Teas Black Tea Classic Black - ...   \n",
       "912996       50  Choice Organic Teas Black Tea Classic Black - ...   \n",
       "912997       50  Choice Organic Teas Black Tea Classic Black - ...   \n",
       "912998       50  Choice Organic Teas Black Tea Classic Black - ...   \n",
       "912999       50  Choice Organic Teas Black Tea Classic Black - ...   \n",
       "\n",
       "        item_price   item_upc12   item_upc14           store_address  \\\n",
       "0             0.84  35200264013  35200264013  12125 Alamo Ranch Pkwy   \n",
       "1             0.84  35200264013  35200264013  12125 Alamo Ranch Pkwy   \n",
       "2             0.84  35200264013  35200264013  12125 Alamo Ranch Pkwy   \n",
       "3             0.84  35200264013  35200264013  12125 Alamo Ranch Pkwy   \n",
       "4             0.84  35200264013  35200264013  12125 Alamo Ranch Pkwy   \n",
       "...            ...          ...          ...                     ...   \n",
       "912995        5.20  47445919221  47445919221    8503 NW Military Hwy   \n",
       "912996        5.20  47445919221  47445919221    8503 NW Military Hwy   \n",
       "912997        5.20  47445919221  47445919221    8503 NW Military Hwy   \n",
       "912998        5.20  47445919221  47445919221    8503 NW Military Hwy   \n",
       "912999        5.20  47445919221  47445919221    8503 NW Military Hwy   \n",
       "\n",
       "         store_city  store_id store_state  store_zipcode  \n",
       "0       San Antonio         1          TX          78253  \n",
       "1       San Antonio         1          TX          78253  \n",
       "2       San Antonio         1          TX          78253  \n",
       "3       San Antonio         1          TX          78253  \n",
       "4       San Antonio         1          TX          78253  \n",
       "...             ...       ...         ...            ...  \n",
       "912995  San Antonio        10          TX          78231  \n",
       "912996  San Antonio        10          TX          78231  \n",
       "912997  San Antonio        10          TX          78231  \n",
       "912998  San Antonio        10          TX          78231  \n",
       "912999  San Antonio        10          TX          78231  \n",
       "\n",
       "[913000 rows x 14 columns]"
      ]
     },
     "execution_count": 3,
     "metadata": {},
     "output_type": "execute_result"
    }
   ],
   "source": [
    "sales"
   ]
  },
  {
   "cell_type": "markdown",
   "id": "4788af23",
   "metadata": {},
   "source": [
    "### The end result of this exerccise will be a file named prepare.py\n",
    "\n",
    "### 1. Convert date column to datetime format."
   ]
  },
  {
   "cell_type": "code",
<<<<<<< HEAD
   "execution_count": 4,
=======
   "execution_count": null,
>>>>>>> 403f7d241285418f3c74e3e3f67c5cd4de6c756b
   "id": "08218287",
   "metadata": {},
   "outputs": [],
   "source": [
    "def create_datetime_object(df):\n",
    "    sales.sale_date = pd.to_datetime(sales.sale_date)"
   ]
  },
  {
   "cell_type": "code",
<<<<<<< HEAD
   "execution_count": 5,
=======
   "execution_count": 4,
>>>>>>> 403f7d241285418f3c74e3e3f67c5cd4de6c756b
   "id": "653aa76c",
   "metadata": {},
   "outputs": [
    {
     "name": "stdout",
     "output_type": "stream",
     "text": [
      "<class 'pandas.core.frame.DataFrame'>\n",
      "Int64Index: 913000 entries, 0 to 912999\n",
      "Data columns (total 14 columns):\n",
      " #   Column         Non-Null Count   Dtype  \n",
      "---  ------         --------------   -----  \n",
      " 0   sale_amount    913000 non-null  float64\n",
      " 1   sale_date      913000 non-null  object \n",
      " 2   sale_id        913000 non-null  int64  \n",
      " 3   item_brand     913000 non-null  object \n",
      " 4   item_id        913000 non-null  int64  \n",
      " 5   item_name      913000 non-null  object \n",
      " 6   item_price     913000 non-null  float64\n",
      " 7   item_upc12     913000 non-null  int64  \n",
      " 8   item_upc14     913000 non-null  int64  \n",
      " 9   store_address  913000 non-null  object \n",
      " 10  store_city     913000 non-null  object \n",
      " 11  store_id       913000 non-null  int64  \n",
      " 12  store_state    913000 non-null  object \n",
      " 13  store_zipcode  913000 non-null  int64  \n",
      "dtypes: float64(2), int64(6), object(6)\n",
      "memory usage: 104.5+ MB\n"
     ]
    }
   ],
   "source": [
    "sales.info()"
   ]
  },
  {
   "cell_type": "code",
<<<<<<< HEAD
   "execution_count": 6,
=======
   "execution_count": 5,
>>>>>>> 403f7d241285418f3c74e3e3f67c5cd4de6c756b
   "id": "69296227",
   "metadata": {},
   "outputs": [],
   "source": [
    "sales.sale_date = pd.to_datetime(sales.sale_date)"
   ]
  },
  {
   "cell_type": "code",
<<<<<<< HEAD
   "execution_count": 7,
=======
   "execution_count": 6,
>>>>>>> 403f7d241285418f3c74e3e3f67c5cd4de6c756b
   "id": "875d672e",
   "metadata": {},
   "outputs": [
    {
     "data": {
      "text/html": [
       "<div>\n",
       "<style scoped>\n",
       "    .dataframe tbody tr th:only-of-type {\n",
       "        vertical-align: middle;\n",
       "    }\n",
       "\n",
       "    .dataframe tbody tr th {\n",
       "        vertical-align: top;\n",
       "    }\n",
       "\n",
       "    .dataframe thead th {\n",
       "        text-align: right;\n",
       "    }\n",
       "</style>\n",
       "<table border=\"1\" class=\"dataframe\">\n",
       "  <thead>\n",
       "    <tr style=\"text-align: right;\">\n",
       "      <th></th>\n",
       "      <th>sale_amount</th>\n",
       "      <th>sale_date</th>\n",
       "      <th>sale_id</th>\n",
       "      <th>item_brand</th>\n",
       "      <th>item_id</th>\n",
       "      <th>item_name</th>\n",
       "      <th>item_price</th>\n",
       "      <th>item_upc12</th>\n",
       "      <th>item_upc14</th>\n",
       "      <th>store_address</th>\n",
       "      <th>store_city</th>\n",
       "      <th>store_id</th>\n",
       "      <th>store_state</th>\n",
       "      <th>store_zipcode</th>\n",
       "    </tr>\n",
       "  </thead>\n",
       "  <tbody>\n",
       "    <tr>\n",
       "      <th>0</th>\n",
       "      <td>13.0</td>\n",
       "      <td>2013-01-01 00:00:00+00:00</td>\n",
       "      <td>1</td>\n",
       "      <td>Riceland</td>\n",
       "      <td>1</td>\n",
       "      <td>Riceland American Jazmine Rice</td>\n",
       "      <td>0.84</td>\n",
       "      <td>35200264013</td>\n",
       "      <td>35200264013</td>\n",
       "      <td>12125 Alamo Ranch Pkwy</td>\n",
       "      <td>San Antonio</td>\n",
       "      <td>1</td>\n",
       "      <td>TX</td>\n",
       "      <td>78253</td>\n",
       "    </tr>\n",
       "    <tr>\n",
       "      <th>1</th>\n",
       "      <td>11.0</td>\n",
       "      <td>2013-01-02 00:00:00+00:00</td>\n",
       "      <td>2</td>\n",
       "      <td>Riceland</td>\n",
       "      <td>1</td>\n",
       "      <td>Riceland American Jazmine Rice</td>\n",
       "      <td>0.84</td>\n",
       "      <td>35200264013</td>\n",
       "      <td>35200264013</td>\n",
       "      <td>12125 Alamo Ranch Pkwy</td>\n",
       "      <td>San Antonio</td>\n",
       "      <td>1</td>\n",
       "      <td>TX</td>\n",
       "      <td>78253</td>\n",
       "    </tr>\n",
       "    <tr>\n",
       "      <th>2</th>\n",
       "      <td>14.0</td>\n",
       "      <td>2013-01-03 00:00:00+00:00</td>\n",
       "      <td>3</td>\n",
       "      <td>Riceland</td>\n",
       "      <td>1</td>\n",
       "      <td>Riceland American Jazmine Rice</td>\n",
       "      <td>0.84</td>\n",
       "      <td>35200264013</td>\n",
       "      <td>35200264013</td>\n",
       "      <td>12125 Alamo Ranch Pkwy</td>\n",
       "      <td>San Antonio</td>\n",
       "      <td>1</td>\n",
       "      <td>TX</td>\n",
       "      <td>78253</td>\n",
       "    </tr>\n",
       "    <tr>\n",
       "      <th>3</th>\n",
       "      <td>13.0</td>\n",
       "      <td>2013-01-04 00:00:00+00:00</td>\n",
       "      <td>4</td>\n",
       "      <td>Riceland</td>\n",
       "      <td>1</td>\n",
       "      <td>Riceland American Jazmine Rice</td>\n",
       "      <td>0.84</td>\n",
       "      <td>35200264013</td>\n",
       "      <td>35200264013</td>\n",
       "      <td>12125 Alamo Ranch Pkwy</td>\n",
       "      <td>San Antonio</td>\n",
       "      <td>1</td>\n",
       "      <td>TX</td>\n",
       "      <td>78253</td>\n",
       "    </tr>\n",
       "    <tr>\n",
       "      <th>4</th>\n",
       "      <td>10.0</td>\n",
       "      <td>2013-01-05 00:00:00+00:00</td>\n",
       "      <td>5</td>\n",
       "      <td>Riceland</td>\n",
       "      <td>1</td>\n",
       "      <td>Riceland American Jazmine Rice</td>\n",
       "      <td>0.84</td>\n",
       "      <td>35200264013</td>\n",
       "      <td>35200264013</td>\n",
       "      <td>12125 Alamo Ranch Pkwy</td>\n",
       "      <td>San Antonio</td>\n",
       "      <td>1</td>\n",
       "      <td>TX</td>\n",
       "      <td>78253</td>\n",
       "    </tr>\n",
       "    <tr>\n",
       "      <th>...</th>\n",
       "      <td>...</td>\n",
       "      <td>...</td>\n",
       "      <td>...</td>\n",
       "      <td>...</td>\n",
       "      <td>...</td>\n",
       "      <td>...</td>\n",
       "      <td>...</td>\n",
       "      <td>...</td>\n",
       "      <td>...</td>\n",
       "      <td>...</td>\n",
       "      <td>...</td>\n",
       "      <td>...</td>\n",
       "      <td>...</td>\n",
       "      <td>...</td>\n",
       "    </tr>\n",
       "    <tr>\n",
       "      <th>912995</th>\n",
       "      <td>63.0</td>\n",
       "      <td>2017-12-27 00:00:00+00:00</td>\n",
       "      <td>912996</td>\n",
       "      <td>Choice</td>\n",
       "      <td>50</td>\n",
       "      <td>Choice Organic Teas Black Tea Classic Black - ...</td>\n",
       "      <td>5.20</td>\n",
       "      <td>47445919221</td>\n",
       "      <td>47445919221</td>\n",
       "      <td>8503 NW Military Hwy</td>\n",
       "      <td>San Antonio</td>\n",
       "      <td>10</td>\n",
       "      <td>TX</td>\n",
       "      <td>78231</td>\n",
       "    </tr>\n",
       "    <tr>\n",
       "      <th>912996</th>\n",
       "      <td>59.0</td>\n",
       "      <td>2017-12-28 00:00:00+00:00</td>\n",
       "      <td>912997</td>\n",
       "      <td>Choice</td>\n",
       "      <td>50</td>\n",
       "      <td>Choice Organic Teas Black Tea Classic Black - ...</td>\n",
       "      <td>5.20</td>\n",
       "      <td>47445919221</td>\n",
       "      <td>47445919221</td>\n",
       "      <td>8503 NW Military Hwy</td>\n",
       "      <td>San Antonio</td>\n",
       "      <td>10</td>\n",
       "      <td>TX</td>\n",
       "      <td>78231</td>\n",
       "    </tr>\n",
       "    <tr>\n",
       "      <th>912997</th>\n",
       "      <td>74.0</td>\n",
       "      <td>2017-12-29 00:00:00+00:00</td>\n",
       "      <td>912998</td>\n",
       "      <td>Choice</td>\n",
       "      <td>50</td>\n",
       "      <td>Choice Organic Teas Black Tea Classic Black - ...</td>\n",
       "      <td>5.20</td>\n",
       "      <td>47445919221</td>\n",
       "      <td>47445919221</td>\n",
       "      <td>8503 NW Military Hwy</td>\n",
       "      <td>San Antonio</td>\n",
       "      <td>10</td>\n",
       "      <td>TX</td>\n",
       "      <td>78231</td>\n",
       "    </tr>\n",
       "    <tr>\n",
       "      <th>912998</th>\n",
       "      <td>62.0</td>\n",
       "      <td>2017-12-30 00:00:00+00:00</td>\n",
       "      <td>912999</td>\n",
       "      <td>Choice</td>\n",
       "      <td>50</td>\n",
       "      <td>Choice Organic Teas Black Tea Classic Black - ...</td>\n",
       "      <td>5.20</td>\n",
       "      <td>47445919221</td>\n",
       "      <td>47445919221</td>\n",
       "      <td>8503 NW Military Hwy</td>\n",
       "      <td>San Antonio</td>\n",
       "      <td>10</td>\n",
       "      <td>TX</td>\n",
       "      <td>78231</td>\n",
       "    </tr>\n",
       "    <tr>\n",
       "      <th>912999</th>\n",
       "      <td>82.0</td>\n",
       "      <td>2017-12-31 00:00:00+00:00</td>\n",
       "      <td>913000</td>\n",
       "      <td>Choice</td>\n",
       "      <td>50</td>\n",
       "      <td>Choice Organic Teas Black Tea Classic Black - ...</td>\n",
       "      <td>5.20</td>\n",
       "      <td>47445919221</td>\n",
       "      <td>47445919221</td>\n",
       "      <td>8503 NW Military Hwy</td>\n",
       "      <td>San Antonio</td>\n",
       "      <td>10</td>\n",
       "      <td>TX</td>\n",
       "      <td>78231</td>\n",
       "    </tr>\n",
       "  </tbody>\n",
       "</table>\n",
       "<p>913000 rows × 14 columns</p>\n",
       "</div>"
      ],
      "text/plain": [
       "        sale_amount                 sale_date  sale_id item_brand  item_id  \\\n",
       "0              13.0 2013-01-01 00:00:00+00:00        1   Riceland        1   \n",
       "1              11.0 2013-01-02 00:00:00+00:00        2   Riceland        1   \n",
       "2              14.0 2013-01-03 00:00:00+00:00        3   Riceland        1   \n",
       "3              13.0 2013-01-04 00:00:00+00:00        4   Riceland        1   \n",
       "4              10.0 2013-01-05 00:00:00+00:00        5   Riceland        1   \n",
       "...             ...                       ...      ...        ...      ...   \n",
       "912995         63.0 2017-12-27 00:00:00+00:00   912996     Choice       50   \n",
       "912996         59.0 2017-12-28 00:00:00+00:00   912997     Choice       50   \n",
       "912997         74.0 2017-12-29 00:00:00+00:00   912998     Choice       50   \n",
       "912998         62.0 2017-12-30 00:00:00+00:00   912999     Choice       50   \n",
       "912999         82.0 2017-12-31 00:00:00+00:00   913000     Choice       50   \n",
       "\n",
       "                                                item_name  item_price  \\\n",
       "0                          Riceland American Jazmine Rice        0.84   \n",
       "1                          Riceland American Jazmine Rice        0.84   \n",
       "2                          Riceland American Jazmine Rice        0.84   \n",
       "3                          Riceland American Jazmine Rice        0.84   \n",
       "4                          Riceland American Jazmine Rice        0.84   \n",
       "...                                                   ...         ...   \n",
       "912995  Choice Organic Teas Black Tea Classic Black - ...        5.20   \n",
       "912996  Choice Organic Teas Black Tea Classic Black - ...        5.20   \n",
       "912997  Choice Organic Teas Black Tea Classic Black - ...        5.20   \n",
       "912998  Choice Organic Teas Black Tea Classic Black - ...        5.20   \n",
       "912999  Choice Organic Teas Black Tea Classic Black - ...        5.20   \n",
       "\n",
       "         item_upc12   item_upc14           store_address   store_city  \\\n",
       "0       35200264013  35200264013  12125 Alamo Ranch Pkwy  San Antonio   \n",
       "1       35200264013  35200264013  12125 Alamo Ranch Pkwy  San Antonio   \n",
       "2       35200264013  35200264013  12125 Alamo Ranch Pkwy  San Antonio   \n",
       "3       35200264013  35200264013  12125 Alamo Ranch Pkwy  San Antonio   \n",
       "4       35200264013  35200264013  12125 Alamo Ranch Pkwy  San Antonio   \n",
       "...             ...          ...                     ...          ...   \n",
       "912995  47445919221  47445919221    8503 NW Military Hwy  San Antonio   \n",
       "912996  47445919221  47445919221    8503 NW Military Hwy  San Antonio   \n",
       "912997  47445919221  47445919221    8503 NW Military Hwy  San Antonio   \n",
       "912998  47445919221  47445919221    8503 NW Military Hwy  San Antonio   \n",
       "912999  47445919221  47445919221    8503 NW Military Hwy  San Antonio   \n",
       "\n",
       "        store_id store_state  store_zipcode  \n",
       "0              1          TX          78253  \n",
       "1              1          TX          78253  \n",
       "2              1          TX          78253  \n",
       "3              1          TX          78253  \n",
       "4              1          TX          78253  \n",
       "...          ...         ...            ...  \n",
       "912995        10          TX          78231  \n",
       "912996        10          TX          78231  \n",
       "912997        10          TX          78231  \n",
       "912998        10          TX          78231  \n",
       "912999        10          TX          78231  \n",
       "\n",
       "[913000 rows x 14 columns]"
      ]
     },
<<<<<<< HEAD
     "execution_count": 7,
=======
     "execution_count": 6,
>>>>>>> 403f7d241285418f3c74e3e3f67c5cd4de6c756b
     "metadata": {},
     "output_type": "execute_result"
    }
   ],
   "source": [
    "sales"
   ]
  },
  {
   "cell_type": "markdown",
   "id": "97ec8579",
   "metadata": {},
   "source": [
    "### 2. Plot the distribution of sale_amount and item_price."
   ]
  },
  {
   "cell_type": "code",
<<<<<<< HEAD
   "execution_count": null,
=======
   "execution_count": 7,
>>>>>>> 403f7d241285418f3c74e3e3f67c5cd4de6c756b
   "id": "d119f3fd",
   "metadata": {},
   "outputs": [],
   "source": [
    "# Need to work on this to work on any dataframe\n",
    "# def plot_distributions(df):\n",
    "#     # Set number for first plot\n",
    "#     n = 1\n",
    "#     \n",
    "#     # If columns is not specified use all columns from df\n",
    "#     if columns == []:\n",
    "#         columns += df.columns\n",
    "#     \n",
    "#     plt.figure(figsize=(10,6))\n",
    "#     for feature in columns:       \n",
    "#         plt.subplot(1,2,n)\n",
    "#         plt.hist(sales[feature])\n",
    "#         plt.title(f'Distribution of {feature}')\n",
    "#         \n",
    "#         n += 1\n",
    "#         "
   ]
  },
  {
   "cell_type": "code",
<<<<<<< HEAD
   "execution_count": null,
=======
   "execution_count": 9,
>>>>>>> 403f7d241285418f3c74e3e3f67c5cd4de6c756b
   "id": "6190882d",
   "metadata": {
    "scrolled": false
   },
<<<<<<< HEAD
   "outputs": [],
=======
   "outputs": [
    {
     "data": {
      "text/plain": [
       "Text(0.5, 1.0, 'Distribution of Item Price')"
      ]
     },
     "execution_count": 9,
     "metadata": {},
     "output_type": "execute_result"
    },
    {
     "data": {
      "image/png": "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\n",
      "text/plain": [
       "<Figure size 720x432 with 2 Axes>"
      ]
     },
     "metadata": {
      "needs_background": "light"
     },
     "output_type": "display_data"
    }
   ],
>>>>>>> 403f7d241285418f3c74e3e3f67c5cd4de6c756b
   "source": [
    "plt.figure(figsize=(10,6))\n",
    "\n",
    "plt.subplot(121)\n",
    "plt.hist(sales.sale_amount)\n",
    "plt.title('Distribution of Sale Amount')\n",
    "\n",
    "plt.subplot(122)\n",
    "plt.hist(sales.item_price)\n",
    "plt.title('Distribution of Item Price')"
   ]
  },
  {
   "cell_type": "markdown",
   "id": "31d477b7",
   "metadata": {},
   "source": [
    "### 3. Set the index to be the datetime variable."
   ]
  },
  {
   "cell_type": "code",
   "execution_count": null,
   "id": "6abee7da",
   "metadata": {},
   "outputs": [],
   "source": [
    "# Create function that will set the index for the sales dataset\n",
    "def set_index(index_name):\n",
    "    sales = sales.set_index(index_name).sort_index()\n",
    "    sales.index.rename('date', inplace=True)\n",
    "    return sales"
   ]
  },
  {
   "cell_type": "code",
   "execution_count": null,
   "id": "91c16909",
   "metadata": {},
   "outputs": [],
   "source": []
  },
  {
   "cell_type": "code",
<<<<<<< HEAD
   "execution_count": null,
=======
   "execution_count": 10,
>>>>>>> 403f7d241285418f3c74e3e3f67c5cd4de6c756b
   "id": "15c5d464",
   "metadata": {},
   "outputs": [],
   "source": [
    "sales = sales.set_index('sale_date').sort_index()\n",
    "sales.index.rename('date', inplace=True)"
   ]
  },
  {
   "cell_type": "markdown",
   "id": "44839a76",
   "metadata": {},
   "source": [
    "### 4. Add a 'month' and 'day of week' column to your dataframe."
   ]
  },
  {
   "cell_type": "code",
   "execution_count": null,
   "id": "55611072",
   "metadata": {},
   "outputs": [],
   "source": [
    "# Create a function that adds the columns 'month', 'day_of_week', and 'sales_total' to sales dataframe.\n",
    "def add_columns(df):\n",
    "    df['month'] = df.index.month\n",
    "    df['day_of_week'] = df.index.strftime('%w')\n",
    "    df['sales_total'] = df.sale_amount * df.item_price\n",
    "    return df"
   ]
  },
  {
   "cell_type": "code",
<<<<<<< HEAD
   "execution_count": null,
=======
   "execution_count": 11,
>>>>>>> 403f7d241285418f3c74e3e3f67c5cd4de6c756b
   "id": "05da8855",
   "metadata": {},
   "outputs": [],
   "source": [
    "# Create a 'month' column where each month is represented by an integer. Jan = 1\n",
    "sales['month'] = sales.index.month"
   ]
  },
  {
   "cell_type": "code",
<<<<<<< HEAD
   "execution_count": null,
=======
   "execution_count": 12,
>>>>>>> 403f7d241285418f3c74e3e3f67c5cd4de6c756b
   "id": "a6b0f7de",
   "metadata": {},
   "outputs": [],
   "source": [
    "# Create a 'day_of_week' column where each day is represented by an integer. Sun = 0\n",
    "sales['day_of_week'] = sales.index.strftime('%w')"
   ]
  },
  {
   "cell_type": "code",
<<<<<<< HEAD
   "execution_count": null,
   "id": "b7ed462b",
   "metadata": {},
   "outputs": [],
=======
   "execution_count": 13,
   "id": "b7ed462b",
   "metadata": {},
   "outputs": [
    {
     "data": {
      "text/html": [
       "<div>\n",
       "<style scoped>\n",
       "    .dataframe tbody tr th:only-of-type {\n",
       "        vertical-align: middle;\n",
       "    }\n",
       "\n",
       "    .dataframe tbody tr th {\n",
       "        vertical-align: top;\n",
       "    }\n",
       "\n",
       "    .dataframe thead th {\n",
       "        text-align: right;\n",
       "    }\n",
       "</style>\n",
       "<table border=\"1\" class=\"dataframe\">\n",
       "  <thead>\n",
       "    <tr style=\"text-align: right;\">\n",
       "      <th></th>\n",
       "      <th>sale_amount</th>\n",
       "      <th>sale_id</th>\n",
       "      <th>item_brand</th>\n",
       "      <th>item_id</th>\n",
       "      <th>item_name</th>\n",
       "      <th>item_price</th>\n",
       "      <th>item_upc12</th>\n",
       "      <th>item_upc14</th>\n",
       "      <th>store_address</th>\n",
       "      <th>store_city</th>\n",
       "      <th>store_id</th>\n",
       "      <th>store_state</th>\n",
       "      <th>store_zipcode</th>\n",
       "      <th>month</th>\n",
       "      <th>day_of_week</th>\n",
       "    </tr>\n",
       "    <tr>\n",
       "      <th>date</th>\n",
       "      <th></th>\n",
       "      <th></th>\n",
       "      <th></th>\n",
       "      <th></th>\n",
       "      <th></th>\n",
       "      <th></th>\n",
       "      <th></th>\n",
       "      <th></th>\n",
       "      <th></th>\n",
       "      <th></th>\n",
       "      <th></th>\n",
       "      <th></th>\n",
       "      <th></th>\n",
       "      <th></th>\n",
       "      <th></th>\n",
       "    </tr>\n",
       "  </thead>\n",
       "  <tbody>\n",
       "    <tr>\n",
       "      <th>2013-01-01 00:00:00+00:00</th>\n",
       "      <td>13.0</td>\n",
       "      <td>1</td>\n",
       "      <td>Riceland</td>\n",
       "      <td>1</td>\n",
       "      <td>Riceland American Jazmine Rice</td>\n",
       "      <td>0.84</td>\n",
       "      <td>35200264013</td>\n",
       "      <td>35200264013</td>\n",
       "      <td>12125 Alamo Ranch Pkwy</td>\n",
       "      <td>San Antonio</td>\n",
       "      <td>1</td>\n",
       "      <td>TX</td>\n",
       "      <td>78253</td>\n",
       "      <td>1</td>\n",
       "      <td>2</td>\n",
       "    </tr>\n",
       "    <tr>\n",
       "      <th>2013-01-01 00:00:00+00:00</th>\n",
       "      <td>26.0</td>\n",
       "      <td>211817</td>\n",
       "      <td>Mueller</td>\n",
       "      <td>12</td>\n",
       "      <td>Mueller Sport Care Basic Support Level Medium ...</td>\n",
       "      <td>8.40</td>\n",
       "      <td>74676640211</td>\n",
       "      <td>74676640211</td>\n",
       "      <td>12018 Perrin Beitel Rd</td>\n",
       "      <td>San Antonio</td>\n",
       "      <td>7</td>\n",
       "      <td>TX</td>\n",
       "      <td>78217</td>\n",
       "      <td>1</td>\n",
       "      <td>2</td>\n",
       "    </tr>\n",
       "    <tr>\n",
       "      <th>2013-01-01 00:00:00+00:00</th>\n",
       "      <td>27.0</td>\n",
       "      <td>832657</td>\n",
       "      <td>Mama Marys</td>\n",
       "      <td>46</td>\n",
       "      <td>Pizza Sauce</td>\n",
       "      <td>4.65</td>\n",
       "      <td>35457770664</td>\n",
       "      <td>35457770664</td>\n",
       "      <td>12018 Perrin Beitel Rd</td>\n",
       "      <td>San Antonio</td>\n",
       "      <td>7</td>\n",
       "      <td>TX</td>\n",
       "      <td>78217</td>\n",
       "      <td>1</td>\n",
       "      <td>2</td>\n",
       "    </tr>\n",
       "    <tr>\n",
       "      <th>2013-01-01 00:00:00+00:00</th>\n",
       "      <td>54.0</td>\n",
       "      <td>213643</td>\n",
       "      <td>Mueller</td>\n",
       "      <td>12</td>\n",
       "      <td>Mueller Sport Care Basic Support Level Medium ...</td>\n",
       "      <td>8.40</td>\n",
       "      <td>74676640211</td>\n",
       "      <td>74676640211</td>\n",
       "      <td>15000 San Pedro Ave</td>\n",
       "      <td>San Antonio</td>\n",
       "      <td>8</td>\n",
       "      <td>TX</td>\n",
       "      <td>78232</td>\n",
       "      <td>1</td>\n",
       "      <td>2</td>\n",
       "    </tr>\n",
       "    <tr>\n",
       "      <th>2013-01-01 00:00:00+00:00</th>\n",
       "      <td>35.0</td>\n",
       "      <td>215469</td>\n",
       "      <td>Mueller</td>\n",
       "      <td>12</td>\n",
       "      <td>Mueller Sport Care Basic Support Level Medium ...</td>\n",
       "      <td>8.40</td>\n",
       "      <td>74676640211</td>\n",
       "      <td>74676640211</td>\n",
       "      <td>735 SW Military Dr</td>\n",
       "      <td>San Antonio</td>\n",
       "      <td>9</td>\n",
       "      <td>TX</td>\n",
       "      <td>78221</td>\n",
       "      <td>1</td>\n",
       "      <td>2</td>\n",
       "    </tr>\n",
       "    <tr>\n",
       "      <th>...</th>\n",
       "      <td>...</td>\n",
       "      <td>...</td>\n",
       "      <td>...</td>\n",
       "      <td>...</td>\n",
       "      <td>...</td>\n",
       "      <td>...</td>\n",
       "      <td>...</td>\n",
       "      <td>...</td>\n",
       "      <td>...</td>\n",
       "      <td>...</td>\n",
       "      <td>...</td>\n",
       "      <td>...</td>\n",
       "      <td>...</td>\n",
       "      <td>...</td>\n",
       "      <td>...</td>\n",
       "    </tr>\n",
       "    <tr>\n",
       "      <th>2017-12-31 00:00:00+00:00</th>\n",
       "      <td>21.0</td>\n",
       "      <td>619014</td>\n",
       "      <td>Halls</td>\n",
       "      <td>34</td>\n",
       "      <td>Halls Menthol Cough Suppresant/oral Anesthetic...</td>\n",
       "      <td>4.17</td>\n",
       "      <td>312546628694</td>\n",
       "      <td>312546628694</td>\n",
       "      <td>735 SW Military Dr</td>\n",
       "      <td>San Antonio</td>\n",
       "      <td>9</td>\n",
       "      <td>TX</td>\n",
       "      <td>78221</td>\n",
       "      <td>12</td>\n",
       "      <td>0</td>\n",
       "    </tr>\n",
       "    <tr>\n",
       "      <th>2017-12-31 00:00:00+00:00</th>\n",
       "      <td>32.0</td>\n",
       "      <td>620840</td>\n",
       "      <td>Halls</td>\n",
       "      <td>34</td>\n",
       "      <td>Halls Menthol Cough Suppresant/oral Anesthetic...</td>\n",
       "      <td>4.17</td>\n",
       "      <td>312546628694</td>\n",
       "      <td>312546628694</td>\n",
       "      <td>8503 NW Military Hwy</td>\n",
       "      <td>San Antonio</td>\n",
       "      <td>10</td>\n",
       "      <td>TX</td>\n",
       "      <td>78231</td>\n",
       "      <td>12</td>\n",
       "      <td>0</td>\n",
       "    </tr>\n",
       "    <tr>\n",
       "      <th>2017-12-31 00:00:00+00:00</th>\n",
       "      <td>55.0</td>\n",
       "      <td>622666</td>\n",
       "      <td>Natures Way</td>\n",
       "      <td>35</td>\n",
       "      <td>Natures Way Forskohlii - 60 Ct</td>\n",
       "      <td>5.19</td>\n",
       "      <td>33674100066</td>\n",
       "      <td>33674100066</td>\n",
       "      <td>12125 Alamo Ranch Pkwy</td>\n",
       "      <td>San Antonio</td>\n",
       "      <td>1</td>\n",
       "      <td>TX</td>\n",
       "      <td>78253</td>\n",
       "      <td>12</td>\n",
       "      <td>0</td>\n",
       "    </tr>\n",
       "    <tr>\n",
       "      <th>2017-12-31 00:00:00+00:00</th>\n",
       "      <td>100.0</td>\n",
       "      <td>598928</td>\n",
       "      <td>The First Years</td>\n",
       "      <td>33</td>\n",
       "      <td>Tomy The First Years Gumdrop Orthodontic Pacif...</td>\n",
       "      <td>6.52</td>\n",
       "      <td>71463060078</td>\n",
       "      <td>71463060078</td>\n",
       "      <td>15000 San Pedro Ave</td>\n",
       "      <td>San Antonio</td>\n",
       "      <td>8</td>\n",
       "      <td>TX</td>\n",
       "      <td>78232</td>\n",
       "      <td>12</td>\n",
       "      <td>0</td>\n",
       "    </tr>\n",
       "    <tr>\n",
       "      <th>2017-12-31 00:00:00+00:00</th>\n",
       "      <td>82.0</td>\n",
       "      <td>913000</td>\n",
       "      <td>Choice</td>\n",
       "      <td>50</td>\n",
       "      <td>Choice Organic Teas Black Tea Classic Black - ...</td>\n",
       "      <td>5.20</td>\n",
       "      <td>47445919221</td>\n",
       "      <td>47445919221</td>\n",
       "      <td>8503 NW Military Hwy</td>\n",
       "      <td>San Antonio</td>\n",
       "      <td>10</td>\n",
       "      <td>TX</td>\n",
       "      <td>78231</td>\n",
       "      <td>12</td>\n",
       "      <td>0</td>\n",
       "    </tr>\n",
       "  </tbody>\n",
       "</table>\n",
       "<p>913000 rows × 15 columns</p>\n",
       "</div>"
      ],
      "text/plain": [
       "                           sale_amount  sale_id       item_brand  item_id  \\\n",
       "date                                                                        \n",
       "2013-01-01 00:00:00+00:00         13.0        1         Riceland        1   \n",
       "2013-01-01 00:00:00+00:00         26.0   211817          Mueller       12   \n",
       "2013-01-01 00:00:00+00:00         27.0   832657       Mama Marys       46   \n",
       "2013-01-01 00:00:00+00:00         54.0   213643          Mueller       12   \n",
       "2013-01-01 00:00:00+00:00         35.0   215469          Mueller       12   \n",
       "...                                ...      ...              ...      ...   \n",
       "2017-12-31 00:00:00+00:00         21.0   619014            Halls       34   \n",
       "2017-12-31 00:00:00+00:00         32.0   620840            Halls       34   \n",
       "2017-12-31 00:00:00+00:00         55.0   622666      Natures Way       35   \n",
       "2017-12-31 00:00:00+00:00        100.0   598928  The First Years       33   \n",
       "2017-12-31 00:00:00+00:00         82.0   913000           Choice       50   \n",
       "\n",
       "                                                                   item_name  \\\n",
       "date                                                                           \n",
       "2013-01-01 00:00:00+00:00                     Riceland American Jazmine Rice   \n",
       "2013-01-01 00:00:00+00:00  Mueller Sport Care Basic Support Level Medium ...   \n",
       "2013-01-01 00:00:00+00:00                                        Pizza Sauce   \n",
       "2013-01-01 00:00:00+00:00  Mueller Sport Care Basic Support Level Medium ...   \n",
       "2013-01-01 00:00:00+00:00  Mueller Sport Care Basic Support Level Medium ...   \n",
       "...                                                                      ...   \n",
       "2017-12-31 00:00:00+00:00  Halls Menthol Cough Suppresant/oral Anesthetic...   \n",
       "2017-12-31 00:00:00+00:00  Halls Menthol Cough Suppresant/oral Anesthetic...   \n",
       "2017-12-31 00:00:00+00:00                     Natures Way Forskohlii - 60 Ct   \n",
       "2017-12-31 00:00:00+00:00  Tomy The First Years Gumdrop Orthodontic Pacif...   \n",
       "2017-12-31 00:00:00+00:00  Choice Organic Teas Black Tea Classic Black - ...   \n",
       "\n",
       "                           item_price    item_upc12    item_upc14  \\\n",
       "date                                                                \n",
       "2013-01-01 00:00:00+00:00        0.84   35200264013   35200264013   \n",
       "2013-01-01 00:00:00+00:00        8.40   74676640211   74676640211   \n",
       "2013-01-01 00:00:00+00:00        4.65   35457770664   35457770664   \n",
       "2013-01-01 00:00:00+00:00        8.40   74676640211   74676640211   \n",
       "2013-01-01 00:00:00+00:00        8.40   74676640211   74676640211   \n",
       "...                               ...           ...           ...   \n",
       "2017-12-31 00:00:00+00:00        4.17  312546628694  312546628694   \n",
       "2017-12-31 00:00:00+00:00        4.17  312546628694  312546628694   \n",
       "2017-12-31 00:00:00+00:00        5.19   33674100066   33674100066   \n",
       "2017-12-31 00:00:00+00:00        6.52   71463060078   71463060078   \n",
       "2017-12-31 00:00:00+00:00        5.20   47445919221   47445919221   \n",
       "\n",
       "                                    store_address   store_city  store_id  \\\n",
       "date                                                                       \n",
       "2013-01-01 00:00:00+00:00  12125 Alamo Ranch Pkwy  San Antonio         1   \n",
       "2013-01-01 00:00:00+00:00  12018 Perrin Beitel Rd  San Antonio         7   \n",
       "2013-01-01 00:00:00+00:00  12018 Perrin Beitel Rd  San Antonio         7   \n",
       "2013-01-01 00:00:00+00:00     15000 San Pedro Ave  San Antonio         8   \n",
       "2013-01-01 00:00:00+00:00      735 SW Military Dr  San Antonio         9   \n",
       "...                                           ...          ...       ...   \n",
       "2017-12-31 00:00:00+00:00      735 SW Military Dr  San Antonio         9   \n",
       "2017-12-31 00:00:00+00:00    8503 NW Military Hwy  San Antonio        10   \n",
       "2017-12-31 00:00:00+00:00  12125 Alamo Ranch Pkwy  San Antonio         1   \n",
       "2017-12-31 00:00:00+00:00     15000 San Pedro Ave  San Antonio         8   \n",
       "2017-12-31 00:00:00+00:00    8503 NW Military Hwy  San Antonio        10   \n",
       "\n",
       "                          store_state  store_zipcode  month day_of_week  \n",
       "date                                                                     \n",
       "2013-01-01 00:00:00+00:00          TX          78253      1           2  \n",
       "2013-01-01 00:00:00+00:00          TX          78217      1           2  \n",
       "2013-01-01 00:00:00+00:00          TX          78217      1           2  \n",
       "2013-01-01 00:00:00+00:00          TX          78232      1           2  \n",
       "2013-01-01 00:00:00+00:00          TX          78221      1           2  \n",
       "...                               ...            ...    ...         ...  \n",
       "2017-12-31 00:00:00+00:00          TX          78221     12           0  \n",
       "2017-12-31 00:00:00+00:00          TX          78231     12           0  \n",
       "2017-12-31 00:00:00+00:00          TX          78253     12           0  \n",
       "2017-12-31 00:00:00+00:00          TX          78232     12           0  \n",
       "2017-12-31 00:00:00+00:00          TX          78231     12           0  \n",
       "\n",
       "[913000 rows x 15 columns]"
      ]
     },
     "execution_count": 13,
     "metadata": {},
     "output_type": "execute_result"
    }
   ],
>>>>>>> 403f7d241285418f3c74e3e3f67c5cd4de6c756b
   "source": [
    "sales"
   ]
  },
  {
   "cell_type": "markdown",
   "id": "48310eb0",
   "metadata": {},
   "source": [
    "### 5. Add a column to your dataframe, sales_total, which is a derived from sale_amount (total items) and item_price."
   ]
  },
  {
   "cell_type": "code",
   "execution_count": null,
   "id": "75c5b2a5",
   "metadata": {},
   "outputs": [],
   "source": [
    "sales['sales_total'] = sales.sale_amount * sales.item_price"
   ]
  },
  {
   "cell_type": "code",
   "execution_count": null,
   "id": "4215e9c2",
   "metadata": {},
   "outputs": [],
   "source": [
    "sales"
   ]
  },
  {
   "cell_type": "markdown",
   "id": "5af456a5",
   "metadata": {},
   "source": [
    "### 6. Make sure all the work that you have done above is reproducible. That is, you should put the code above into separate functions and be able to re-run the functions and get the same results."
   ]
  },
  {
   "cell_type": "code",
   "execution_count": null,
   "id": "058e2164",
   "metadata": {},
   "outputs": [],
   "source": [
    "# Create a function that creates a datetime object from the sale_date column.\n",
    "def create_datetime_object(df):\n",
    "    sales.sale_date = pd.to_datetime(sales.sale_date)\n",
    "    \n",
    "# Create a function that plots the distributions from a given list of features.\n",
    "def plot_distributions(list):\n",
    "    # Set number for first plot\n",
    "    n = 1\n",
    "    plt.figure(figsize=(10,6))\n",
    "    for feature in list:       \n",
    "        plt.subplot(1,2,n)\n",
    "        plt.hist(sales[feature])\n",
    "        plt.title(f'Distribution of {feature}')\n",
    "        \n",
    "        n += 1\n",
    "\n",
    "# Create function that will set the index for the sales dataset.\n",
    "def set_index(index_name):\n",
    "    sales = sales.set_index(index_name).sort_index()\n",
    "    sales.index.rename('date', inplace=True)\n",
    "    return sales\n",
    "\n",
    "\n",
    "# Create a function that adds the columns 'month', 'day_of_week', and 'sales_total' to sales dataframe.\n",
    "def add_columns(df):\n",
    "    df['month'] = df.index.month\n",
    "    df['day_of_week'] = df.index.strftime('%w')\n",
    "    df['sales_total'] = df.sale_amount * df.item_price\n",
    "    return df"
   ]
  },
  {
   "cell_type": "markdown",
   "id": "ba66be02",
   "metadata": {},
   "source": [
    "## Using the OPS data acquired in the Acquire exercises opsd_germany_daily.csv, complete the following:"
   ]
  },
  {
   "cell_type": "markdown",
   "id": "47a1181d",
   "metadata": {},
   "source": [
    "### 1. Convert date column to datetime format."
   ]
  },
  {
   "cell_type": "code",
<<<<<<< HEAD
   "execution_count": null,
   "id": "b6fb8577",
   "metadata": {},
   "outputs": [],
=======
   "execution_count": 14,
   "id": "b6fb8577",
   "metadata": {},
   "outputs": [
    {
     "name": "stdout",
     "output_type": "stream",
     "text": [
      "Data is cached. Reading data from .csv file.\n",
      "Acquisition complete\n"
     ]
    }
   ],
>>>>>>> 403f7d241285418f3c74e3e3f67c5cd4de6c756b
   "source": [
    "opsd = get_power_data()"
   ]
  },
  {
   "cell_type": "code",
<<<<<<< HEAD
   "execution_count": null,
   "id": "b021951a",
   "metadata": {},
   "outputs": [],
=======
   "execution_count": 15,
   "id": "b021951a",
   "metadata": {},
   "outputs": [
    {
     "name": "stdout",
     "output_type": "stream",
     "text": [
      "<class 'pandas.core.frame.DataFrame'>\n",
      "RangeIndex: 4383 entries, 0 to 4382\n",
      "Data columns (total 5 columns):\n",
      " #   Column       Non-Null Count  Dtype  \n",
      "---  ------       --------------  -----  \n",
      " 0   Date         4383 non-null   object \n",
      " 1   Consumption  4383 non-null   float64\n",
      " 2   Wind         4383 non-null   float64\n",
      " 3   Solar        4383 non-null   float64\n",
      " 4   Wind+Solar   4383 non-null   float64\n",
      "dtypes: float64(4), object(1)\n",
      "memory usage: 171.3+ KB\n"
     ]
    }
   ],
>>>>>>> 403f7d241285418f3c74e3e3f67c5cd4de6c756b
   "source": [
    "opsd.info()"
   ]
  },
  {
   "cell_type": "code",
<<<<<<< HEAD
   "execution_count": null,
=======
   "execution_count": 16,
>>>>>>> 403f7d241285418f3c74e3e3f67c5cd4de6c756b
   "id": "30e5ee44",
   "metadata": {},
   "outputs": [],
   "source": [
    "opsd.Date = pd.to_datetime(opsd.Date)"
   ]
  },
  {
   "cell_type": "code",
<<<<<<< HEAD
   "execution_count": null,
   "id": "a35ad51c",
   "metadata": {},
   "outputs": [],
=======
   "execution_count": 17,
   "id": "a35ad51c",
   "metadata": {},
   "outputs": [
    {
     "name": "stdout",
     "output_type": "stream",
     "text": [
      "<class 'pandas.core.frame.DataFrame'>\n",
      "RangeIndex: 4383 entries, 0 to 4382\n",
      "Data columns (total 5 columns):\n",
      " #   Column       Non-Null Count  Dtype         \n",
      "---  ------       --------------  -----         \n",
      " 0   Date         4383 non-null   datetime64[ns]\n",
      " 1   Consumption  4383 non-null   float64       \n",
      " 2   Wind         4383 non-null   float64       \n",
      " 3   Solar        4383 non-null   float64       \n",
      " 4   Wind+Solar   4383 non-null   float64       \n",
      "dtypes: datetime64[ns](1), float64(4)\n",
      "memory usage: 171.3 KB\n"
     ]
    }
   ],
>>>>>>> 403f7d241285418f3c74e3e3f67c5cd4de6c756b
   "source": [
    "opsd.info()"
   ]
  },
  {
   "cell_type": "code",
<<<<<<< HEAD
   "execution_count": null,
   "id": "1007b4f8",
   "metadata": {},
   "outputs": [],
=======
   "execution_count": 18,
   "id": "1007b4f8",
   "metadata": {},
   "outputs": [
    {
     "data": {
      "text/plain": [
       "Index(['Date', 'Consumption', 'Wind', 'Solar', 'Wind+Solar'], dtype='object')"
      ]
     },
     "execution_count": 18,
     "metadata": {},
     "output_type": "execute_result"
    }
   ],
>>>>>>> 403f7d241285418f3c74e3e3f67c5cd4de6c756b
   "source": [
    "columns = opsd.columns\n",
    "columns"
   ]
  },
  {
   "cell_type": "code",
<<<<<<< HEAD
   "execution_count": null,
=======
   "execution_count": 19,
>>>>>>> 403f7d241285418f3c74e3e3f67c5cd4de6c756b
   "id": "4fe050c8",
   "metadata": {},
   "outputs": [],
   "source": [
    "def plot_distributions(list):\n",
    "    # Set number for first plot\n",
    "    n = 1\n",
    "    plt.figure(figsize=(10,6))\n",
    "    for feature in list:   \n",
    "        plt.figure(figsize=(10,6))\n",
    "        plt.subplot(4,2,n)\n",
    "        plt.hist(opsd[feature])\n",
    "        plt.title(f'Distribution of {feature}')\n",
    "        \n",
    "        n += 1"
   ]
  },
  {
   "cell_type": "code",
<<<<<<< HEAD
   "execution_count": null,
   "id": "e57a8ccd",
   "metadata": {},
   "outputs": [],
=======
   "execution_count": 20,
   "id": "e57a8ccd",
   "metadata": {},
   "outputs": [
    {
     "data": {
      "text/plain": [
       "<Figure size 720x432 with 0 Axes>"
      ]
     },
     "metadata": {},
     "output_type": "display_data"
    },
    {
     "data": {
      "image/png": "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\n",
      "text/plain": [
       "<Figure size 720x432 with 1 Axes>"
      ]
     },
     "metadata": {
      "needs_background": "light"
     },
     "output_type": "display_data"
    },
    {
     "data": {
      "image/png": "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\n",
      "text/plain": [
       "<Figure size 720x432 with 1 Axes>"
      ]
     },
     "metadata": {
      "needs_background": "light"
     },
     "output_type": "display_data"
    },
    {
     "data": {
      "image/png": "iVBORw0KGgoAAAANSUhEUgAAASwAAAB2CAYAAAByH65QAAAAOXRFWHRTb2Z0d2FyZQBNYXRwbG90bGliIHZlcnNpb24zLjMuNCwgaHR0cHM6Ly9tYXRwbG90bGliLm9yZy8QVMy6AAAACXBIWXMAAAsTAAALEwEAmpwYAAAMYklEQVR4nO3de5BXZR3H8fcn8EZ4Q0gRlYViHNGZsqgs81I4o6ZFM01Jk4pm43QzTRqDvGQXC7s43azGUdO0NFMnzay8FpoNtFgmhigJ0SoK6KhAZmLf/jjPymH5/djzW3Z/u8/h85rZ2d/vOb/znOc5u/uZ59z2UURgZpaDVw12A8zMqnJgmVk2HFhmlg0Hlpllw4FlZtlwYJlZNhxYNSTpR5LO7ae69pG0VtKw9P73kj7aH3Wn+n4jaUZ/1dfCdr8iabWkJ/uhrj7vb0knSbp3S9uwtXBgZUbSMkkvSFoj6VlJ90n6mKRXfpYR8bGI+HLFuo7Y3GciYnlEjIyIl/uh7edLurpH/UdHxJVbWneL7dgbmAlMjog9GixfLOmDpfcHS4oGZWslDa+6v23LObDy9J6I2BEYD8wBPgdc1t8bkTS8v+scIsYDT0fEyibL5wKHld4fCjzcoOy+iFg/ME20RhxYGYuI5yLiZuA4YIakAwAkXSHpK+n1aEm3pNHYM5LukfQqSVcB+wC/SiOFsyR1pJHEKZKWA3eVysrh9VpJ8yU9J+kmSaPStg6X1FVuY/coTtJRwOeB49L2HkjLXznETO06R9I/Ja2U9BNJO6dl3e2YIWl5Opw7u9m+kbRzWn9Vqu+cVP8RwO3AnqkdVzRYfS5FIHU7BLiwQdncBvv7cEldkmamPqyQdHKpXbtJulnS85LmA69t1gfblAOrBiJiPtBF8UfU08y0bAywO0VoREScACynGK2NjIivl9Y5DNgPOLLJJk8EPgLsCawHvluhjb8Fvgr8PG3v9Q0+dlL6eicwERgJfL/HZ94B7AtMBc6TtF+TTX4P2DnVc1hq88kRcQdwNPBEasdJDdb9A7C/pFHpUHsK8HNgl1LZ20mB1cAeadvjgFOAiyXtmpZdDPwHGEuxDz/SpA5rwIFVH08AoxqUv0TxxzE+Il6KiHui9wdIz4+IdRHxQpPlV0XEwohYB5wLfLD7pPwW+jBwUUQ8FhFrgdnA9B6juy9GxAsR8QDwALBJ8KW2HAfMjog1EbEM+BZwQpVGRMRyijA/JNX/aNoXfyyVbQ/Ma1LFS8CX0v6+FVgL7Jva9X7gvLR/FwJtPX+XOwdWfYwDnmlQ/g1gCXCbpMckzapQ179aWP5PYBtgdKVWbt6eqb5y3cMpRobdylf1/k0xCutpNLBtg7rGtdCW7sPCQ4F7Utm9pbJ5EfFik3Wf7nFuq7udYyj603P/WUUOrBqQ9GaKP8ZNLo+nEcbMiJgIvAc4U9LU7sVNquxtBLZ36fU+FCOK1cA6YESpXcMo/kir1vsExQnxct3rgad6Wa+n1alNPet6vIU6ugPrEDYE1j2lsmaHg5uziqI/PfefVeTAypiknSQdC1wLXB0RDzb4zLGSXidJwPPAy+kLiiCY2IdNHy9psqQRwJeA69NtD48A20s6RtI2wDnAdqX1ngI6yrdg9HAN8BlJEySNZMM5r5auxKW2XAdcIGlHSeOBM4GrN7/mRuYCB1Kc//pjKnsQmEBxjq3lwErtuhE4X9IISZOBtt+DljMHVp5+JWkNxaHF2cBFwMlNPjsJuIPiPMqfgB9ExO/Tsq8B56QriJ9tYftXAVdQHJ5tD3waiquWwCeASylGM+soTvh3+0X6/rSk+xvUe3mqey6wlOLk9GkttKvstLT9xyhGnj9L9VcSEY8AK4EVEfFsKvsfMB/YCbivj+36FMXh4ZMU+/DHfaxnqyT/Az8zy4VHWGaWDQeWmWXDgWVm2XBgmVk2HFhmlo0h/zT+6NGjo6OjY7CbYWZtsmDBgtURMabRsiEfWB0dHXR2dg52M8ysTSQ1fVzJh4Rmlo0hP8JqRcesXw9Y3cvmHDNgdZtZNR5hmVk2HFhmlg0Hlpllw4FlZtlwYJlZNhxYZpYNB5aZZcOBZWbZcGCZWTZ6DSxJe0u6W9IiSQ9JOj2Vj5J0u6RH0/ddS+vMlrRE0mJJR5bK3yTpwbTsu2liBDOzSqqMsNYDMyNiP+Ag4JNpto9ZwJ0RMQm4M70nLZsO7A8cBfygNMnmD4FTKSZGmJSWm5lV0mtgRcSKiLg/vV4DLKKYA28aG2atvRJ4X3o9Dbg2Il6MiKUUk3i+RdJYYKeI+FOaefgnpXXMzHrV0jksSR0Uc7XNA3aPiBVQhBrwmvSxcWw8s21XKhvHxlM+dZebmVVSObDSxJY3AGdExPOb+2iDsthMeaNtnSqpU1LnqlWrqjbRzGquUmClWXxvAH4aETem4qfSYR7p+8pU3sXGU3HvRTEFeVd63bN8ExFxSURMiYgpY8Y0/MeDZrYVqnKVUMBlwKKIuKi06GY2TLM9A7ipVD5d0naSJlCcXJ+fDhvXSDoo1XliaR0zs15V+Qd+BwMnAA9K+msq+zwwB7hO0inAcuADABHxkKTrgL9TXGH8ZES8nNb7OMX03DsAv0lfZmaV9BpYEXEvjc8/AUxtss4FwAUNyjuBA1ppoJlZN9/pbmbZcGCZWTYcWGaWDQeWmWXDgWVm2XBgmVk2HFhmlg0Hlpllw4FlZtlwYJlZNhxYZpYNB5aZZcOBZWbZcGCZWTYcWGaWDQeWmWXDgWVm2XBgmVk2qkxCcbmklZIWlso8Tb2ZtV2VEdYVbDqlvKepN7O2qzJV/VzgmR7FnqbezNqur+ewPE29mbVdf5903+Jp6sFT1ZtZY30NrAGbph48Vb2ZNdbXwPI09WbWdr3O/CzpGuBwYLSkLuALeJp6MxsEKi7aDV1TpkyJzs7OSp/tmPXrAW7NwFg255jBboLZkCFpQURMabTMd7qbWTYcWGaWDQeWmWXDgWVm2XBgmVk2HFhmlg0Hlpllw4FlZtlwYJlZNnp9NMcG3kDeoe+76K1OPMIys2w4sMwsGw4sM8uGA8vMsuHAMrNs+CphzfkKpNWJR1hmlg0Hlpllo+2HhJKOAr4DDAMujYg57W6D9Y+B/pfUPuS0nto6wkrT1l8MHA1MBj6Uprc3M+tVu0dYbwGWRMRjAJKupZje/u9tbodlINdJRQbS1j7qbHdgNZrK/q1tboNZtrb2q77tDqxKU9ZLOhU4Nb1dK2lxxfpHA6v72LYcuH95G9L904VbtHp/9m18swXtDqxmU9lvJCIuAS5ptXJJnc3mM6sD9y9vde5fu/rW7tsa/gxMkjRB0rbAdIrp7c3MetXWEVZErJf0KeB3FLc1XB4RD7WzDWaWr7bfhxURtwK3DlD1LR9GZsb9y1ud+9eWvilik3PeZmZDkh/NMbNs1CawJB0labGkJZJmDXZ7WiVpb0l3S1ok6SFJp6fyUZJul/Ro+r5raZ3Zqb+LJR05eK2vTtIwSX+RdEt6X5v+SdpF0vWSHk4/x7fVrH+fSb+bCyVdI2n7tvcvIrL/ojiB/w9gIrAt8AAwebDb1WIfxgJvTK93BB6heHzp68CsVD4LuDC9npz6uR0wIfV/2GD3o0I/zwR+BtyS3temf8CVwEfT622BXerSP4qbvpcCO6T31wEntbt/dRlhvfLIT0T8F+h+5CcbEbEiIu5Pr9cAiyh+SaZR/CGQvr8vvZ4GXBsRL0bEUmAJxX4YsiTtBRwDXFoqrkX/JO0EHApcBhAR/42IZ6lJ/5LhwA6ShgMjKO6hbGv/6hJYjR75GTdIbdlikjqAA4F5wO4RsQKKUANekz6WY5+/DZwF/K9UVpf+TQRWAT9Oh7yXSno1NelfRDwOfBNYDqwAnouI22hz/+oSWJUe+cmBpJHADcAZEfH85j7aoGzI9lnSscDKiFhQdZUGZUO2fxSjjzcCP4yIA4F1FIdIzWTVv3RuahrF4d2ewKslHb+5VRqUbXH/6hJYlR75GeokbUMRVj+NiBtT8VOSxqblY4GVqTy3Ph8MvFfSMopD9ndJupr69K8L6IqIeen99RQBVpf+HQEsjYhVEfEScCPwdtrcv7oEVvaP/EgSxfmPRRFxUWnRzcCM9HoGcFOpfLqk7SRNACYB89vV3lZFxOyI2CsiOih+PndFxPHUp39PAv+StG8qmkrxb5Nq0T+KQ8GDJI1Iv6tTKc6ztrd/g331oR+vYryb4sraP4CzB7s9fWj/OyiGzH8D/pq+3g3sBtwJPJq+jyqtc3bq72Lg6MHuQwt9PZwNVwlr0z/gDUBn+hn+Eti1Zv37IvAwsBC4iuIKYFv75zvdzSwbdTkkNLOtgAPLzLLhwDKzbDiwzCwbDiwzy4YDy8yy4cAys2w4sMwsG/8HshcYE6K4FMsAAAAASUVORK5CYII=\n",
      "text/plain": [
       "<Figure size 720x432 with 1 Axes>"
      ]
     },
     "metadata": {
      "needs_background": "light"
     },
     "output_type": "display_data"
    },
    {
     "data": {
      "image/png": "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\n",
      "text/plain": [
       "<Figure size 720x432 with 1 Axes>"
      ]
     },
     "metadata": {
      "needs_background": "light"
     },
     "output_type": "display_data"
    },
    {
     "data": {
      "image/png": "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\n",
      "text/plain": [
       "<Figure size 720x432 with 1 Axes>"
      ]
     },
     "metadata": {
      "needs_background": "light"
     },
     "output_type": "display_data"
    }
   ],
>>>>>>> 403f7d241285418f3c74e3e3f67c5cd4de6c756b
   "source": [
    "plot_distributions(columns)"
   ]
  },
  {
   "cell_type": "markdown",
   "id": "2b3141ba",
   "metadata": {},
   "source": [
    "### 3. Set the index to be the datetime variable."
   ]
  },
  {
   "cell_type": "code",
<<<<<<< HEAD
   "execution_count": null,
=======
   "execution_count": 21,
>>>>>>> 403f7d241285418f3c74e3e3f67c5cd4de6c756b
   "id": "3aaa95a5",
   "metadata": {},
   "outputs": [],
   "source": [
    "opsd = opsd.set_index('Date').sort_index()"
   ]
  },
  {
   "cell_type": "code",
<<<<<<< HEAD
   "execution_count": null,
   "id": "3fdb9bf6",
   "metadata": {},
   "outputs": [],
=======
   "execution_count": 22,
   "id": "3fdb9bf6",
   "metadata": {},
   "outputs": [
    {
     "data": {
      "text/html": [
       "<div>\n",
       "<style scoped>\n",
       "    .dataframe tbody tr th:only-of-type {\n",
       "        vertical-align: middle;\n",
       "    }\n",
       "\n",
       "    .dataframe tbody tr th {\n",
       "        vertical-align: top;\n",
       "    }\n",
       "\n",
       "    .dataframe thead th {\n",
       "        text-align: right;\n",
       "    }\n",
       "</style>\n",
       "<table border=\"1\" class=\"dataframe\">\n",
       "  <thead>\n",
       "    <tr style=\"text-align: right;\">\n",
       "      <th></th>\n",
       "      <th>Consumption</th>\n",
       "      <th>Wind</th>\n",
       "      <th>Solar</th>\n",
       "      <th>Wind+Solar</th>\n",
       "    </tr>\n",
       "    <tr>\n",
       "      <th>Date</th>\n",
       "      <th></th>\n",
       "      <th></th>\n",
       "      <th></th>\n",
       "      <th></th>\n",
       "    </tr>\n",
       "  </thead>\n",
       "  <tbody>\n",
       "    <tr>\n",
       "      <th>2006-01-01</th>\n",
       "      <td>1069.18400</td>\n",
       "      <td>0.000</td>\n",
       "      <td>0.000</td>\n",
       "      <td>0.000</td>\n",
       "    </tr>\n",
       "    <tr>\n",
       "      <th>2006-01-02</th>\n",
       "      <td>1380.52100</td>\n",
       "      <td>0.000</td>\n",
       "      <td>0.000</td>\n",
       "      <td>0.000</td>\n",
       "    </tr>\n",
       "    <tr>\n",
       "      <th>2006-01-03</th>\n",
       "      <td>1442.53300</td>\n",
       "      <td>0.000</td>\n",
       "      <td>0.000</td>\n",
       "      <td>0.000</td>\n",
       "    </tr>\n",
       "    <tr>\n",
       "      <th>2006-01-04</th>\n",
       "      <td>1457.21700</td>\n",
       "      <td>0.000</td>\n",
       "      <td>0.000</td>\n",
       "      <td>0.000</td>\n",
       "    </tr>\n",
       "    <tr>\n",
       "      <th>2006-01-05</th>\n",
       "      <td>1477.13100</td>\n",
       "      <td>0.000</td>\n",
       "      <td>0.000</td>\n",
       "      <td>0.000</td>\n",
       "    </tr>\n",
       "    <tr>\n",
       "      <th>...</th>\n",
       "      <td>...</td>\n",
       "      <td>...</td>\n",
       "      <td>...</td>\n",
       "      <td>...</td>\n",
       "    </tr>\n",
       "    <tr>\n",
       "      <th>2017-12-27</th>\n",
       "      <td>1263.94091</td>\n",
       "      <td>394.507</td>\n",
       "      <td>16.530</td>\n",
       "      <td>411.037</td>\n",
       "    </tr>\n",
       "    <tr>\n",
       "      <th>2017-12-28</th>\n",
       "      <td>1299.86398</td>\n",
       "      <td>506.424</td>\n",
       "      <td>14.162</td>\n",
       "      <td>520.586</td>\n",
       "    </tr>\n",
       "    <tr>\n",
       "      <th>2017-12-29</th>\n",
       "      <td>1295.08753</td>\n",
       "      <td>584.277</td>\n",
       "      <td>29.854</td>\n",
       "      <td>614.131</td>\n",
       "    </tr>\n",
       "    <tr>\n",
       "      <th>2017-12-30</th>\n",
       "      <td>1215.44897</td>\n",
       "      <td>721.247</td>\n",
       "      <td>7.467</td>\n",
       "      <td>728.714</td>\n",
       "    </tr>\n",
       "    <tr>\n",
       "      <th>2017-12-31</th>\n",
       "      <td>1107.11488</td>\n",
       "      <td>721.176</td>\n",
       "      <td>19.980</td>\n",
       "      <td>741.156</td>\n",
       "    </tr>\n",
       "  </tbody>\n",
       "</table>\n",
       "<p>4383 rows × 4 columns</p>\n",
       "</div>"
      ],
      "text/plain": [
       "            Consumption     Wind   Solar  Wind+Solar\n",
       "Date                                                \n",
       "2006-01-01   1069.18400    0.000   0.000       0.000\n",
       "2006-01-02   1380.52100    0.000   0.000       0.000\n",
       "2006-01-03   1442.53300    0.000   0.000       0.000\n",
       "2006-01-04   1457.21700    0.000   0.000       0.000\n",
       "2006-01-05   1477.13100    0.000   0.000       0.000\n",
       "...                 ...      ...     ...         ...\n",
       "2017-12-27   1263.94091  394.507  16.530     411.037\n",
       "2017-12-28   1299.86398  506.424  14.162     520.586\n",
       "2017-12-29   1295.08753  584.277  29.854     614.131\n",
       "2017-12-30   1215.44897  721.247   7.467     728.714\n",
       "2017-12-31   1107.11488  721.176  19.980     741.156\n",
       "\n",
       "[4383 rows x 4 columns]"
      ]
     },
     "execution_count": 22,
     "metadata": {},
     "output_type": "execute_result"
    }
   ],
>>>>>>> 403f7d241285418f3c74e3e3f67c5cd4de6c756b
   "source": [
    "opsd"
   ]
  },
  {
   "cell_type": "markdown",
   "id": "bcee3415",
   "metadata": {},
   "source": [
    "### 4. Add a month and a year column to your dataframe."
   ]
  },
  {
   "cell_type": "code",
   "execution_count": null,
   "id": "730bfb42",
   "metadata": {},
   "outputs": [],
   "source": [
    "def add_columns(df):\n",
    "    df['month'] = df.index.month\n",
    "    df['year'] = df.index.strftime('%Y')\n",
    "    return df"
   ]
  },
  {
   "cell_type": "code",
<<<<<<< HEAD
   "execution_count": null,
=======
   "execution_count": 23,
>>>>>>> 403f7d241285418f3c74e3e3f67c5cd4de6c756b
   "id": "88f3ac08",
   "metadata": {},
   "outputs": [],
   "source": [
    "opsd['month'] = opsd.index.month"
   ]
  },
  {
   "cell_type": "code",
<<<<<<< HEAD
   "execution_count": null,
=======
   "execution_count": 24,
>>>>>>> 403f7d241285418f3c74e3e3f67c5cd4de6c756b
   "id": "244c7712",
   "metadata": {},
   "outputs": [],
   "source": [
    "opsd['year'] = opsd.index.strftime('%Y')"
   ]
  },
  {
   "cell_type": "code",
<<<<<<< HEAD
   "execution_count": null,
   "id": "27e148e9",
   "metadata": {},
   "outputs": [],
=======
   "execution_count": 26,
   "id": "27e148e9",
   "metadata": {},
   "outputs": [
    {
     "data": {
      "text/html": [
       "<div>\n",
       "<style scoped>\n",
       "    .dataframe tbody tr th:only-of-type {\n",
       "        vertical-align: middle;\n",
       "    }\n",
       "\n",
       "    .dataframe tbody tr th {\n",
       "        vertical-align: top;\n",
       "    }\n",
       "\n",
       "    .dataframe thead th {\n",
       "        text-align: right;\n",
       "    }\n",
       "</style>\n",
       "<table border=\"1\" class=\"dataframe\">\n",
       "  <thead>\n",
       "    <tr style=\"text-align: right;\">\n",
       "      <th></th>\n",
       "      <th>Consumption</th>\n",
       "      <th>Wind</th>\n",
       "      <th>Solar</th>\n",
       "      <th>Wind+Solar</th>\n",
       "      <th>month</th>\n",
       "      <th>year</th>\n",
       "    </tr>\n",
       "    <tr>\n",
       "      <th>Date</th>\n",
       "      <th></th>\n",
       "      <th></th>\n",
       "      <th></th>\n",
       "      <th></th>\n",
       "      <th></th>\n",
       "      <th></th>\n",
       "    </tr>\n",
       "  </thead>\n",
       "  <tbody>\n",
       "    <tr>\n",
       "      <th>2006-01-01</th>\n",
       "      <td>1069.18400</td>\n",
       "      <td>0.000</td>\n",
       "      <td>0.000</td>\n",
       "      <td>0.000</td>\n",
       "      <td>1</td>\n",
       "      <td>2006</td>\n",
       "    </tr>\n",
       "    <tr>\n",
       "      <th>2006-01-02</th>\n",
       "      <td>1380.52100</td>\n",
       "      <td>0.000</td>\n",
       "      <td>0.000</td>\n",
       "      <td>0.000</td>\n",
       "      <td>1</td>\n",
       "      <td>2006</td>\n",
       "    </tr>\n",
       "    <tr>\n",
       "      <th>2006-01-03</th>\n",
       "      <td>1442.53300</td>\n",
       "      <td>0.000</td>\n",
       "      <td>0.000</td>\n",
       "      <td>0.000</td>\n",
       "      <td>1</td>\n",
       "      <td>2006</td>\n",
       "    </tr>\n",
       "    <tr>\n",
       "      <th>2006-01-04</th>\n",
       "      <td>1457.21700</td>\n",
       "      <td>0.000</td>\n",
       "      <td>0.000</td>\n",
       "      <td>0.000</td>\n",
       "      <td>1</td>\n",
       "      <td>2006</td>\n",
       "    </tr>\n",
       "    <tr>\n",
       "      <th>2006-01-05</th>\n",
       "      <td>1477.13100</td>\n",
       "      <td>0.000</td>\n",
       "      <td>0.000</td>\n",
       "      <td>0.000</td>\n",
       "      <td>1</td>\n",
       "      <td>2006</td>\n",
       "    </tr>\n",
       "    <tr>\n",
       "      <th>...</th>\n",
       "      <td>...</td>\n",
       "      <td>...</td>\n",
       "      <td>...</td>\n",
       "      <td>...</td>\n",
       "      <td>...</td>\n",
       "      <td>...</td>\n",
       "    </tr>\n",
       "    <tr>\n",
       "      <th>2017-12-27</th>\n",
       "      <td>1263.94091</td>\n",
       "      <td>394.507</td>\n",
       "      <td>16.530</td>\n",
       "      <td>411.037</td>\n",
       "      <td>12</td>\n",
       "      <td>2017</td>\n",
       "    </tr>\n",
       "    <tr>\n",
       "      <th>2017-12-28</th>\n",
       "      <td>1299.86398</td>\n",
       "      <td>506.424</td>\n",
       "      <td>14.162</td>\n",
       "      <td>520.586</td>\n",
       "      <td>12</td>\n",
       "      <td>2017</td>\n",
       "    </tr>\n",
       "    <tr>\n",
       "      <th>2017-12-29</th>\n",
       "      <td>1295.08753</td>\n",
       "      <td>584.277</td>\n",
       "      <td>29.854</td>\n",
       "      <td>614.131</td>\n",
       "      <td>12</td>\n",
       "      <td>2017</td>\n",
       "    </tr>\n",
       "    <tr>\n",
       "      <th>2017-12-30</th>\n",
       "      <td>1215.44897</td>\n",
       "      <td>721.247</td>\n",
       "      <td>7.467</td>\n",
       "      <td>728.714</td>\n",
       "      <td>12</td>\n",
       "      <td>2017</td>\n",
       "    </tr>\n",
       "    <tr>\n",
       "      <th>2017-12-31</th>\n",
       "      <td>1107.11488</td>\n",
       "      <td>721.176</td>\n",
       "      <td>19.980</td>\n",
       "      <td>741.156</td>\n",
       "      <td>12</td>\n",
       "      <td>2017</td>\n",
       "    </tr>\n",
       "  </tbody>\n",
       "</table>\n",
       "<p>4383 rows × 6 columns</p>\n",
       "</div>"
      ],
      "text/plain": [
       "            Consumption     Wind   Solar  Wind+Solar  month  year\n",
       "Date                                                             \n",
       "2006-01-01   1069.18400    0.000   0.000       0.000      1  2006\n",
       "2006-01-02   1380.52100    0.000   0.000       0.000      1  2006\n",
       "2006-01-03   1442.53300    0.000   0.000       0.000      1  2006\n",
       "2006-01-04   1457.21700    0.000   0.000       0.000      1  2006\n",
       "2006-01-05   1477.13100    0.000   0.000       0.000      1  2006\n",
       "...                 ...      ...     ...         ...    ...   ...\n",
       "2017-12-27   1263.94091  394.507  16.530     411.037     12  2017\n",
       "2017-12-28   1299.86398  506.424  14.162     520.586     12  2017\n",
       "2017-12-29   1295.08753  584.277  29.854     614.131     12  2017\n",
       "2017-12-30   1215.44897  721.247   7.467     728.714     12  2017\n",
       "2017-12-31   1107.11488  721.176  19.980     741.156     12  2017\n",
       "\n",
       "[4383 rows x 6 columns]"
      ]
     },
     "execution_count": 26,
     "metadata": {},
     "output_type": "execute_result"
    }
   ],
>>>>>>> 403f7d241285418f3c74e3e3f67c5cd4de6c756b
   "source": [
    "opsd"
   ]
  },
  {
   "cell_type": "markdown",
   "id": "ffbe9ee9",
   "metadata": {},
   "source": [
    "### 5. Fill any missing values."
   ]
  },
  {
   "cell_type": "code",
<<<<<<< HEAD
   "execution_count": null,
   "id": "99ecec9e",
   "metadata": {},
   "outputs": [],
=======
   "execution_count": 27,
   "id": "99ecec9e",
   "metadata": {},
   "outputs": [
    {
     "data": {
      "text/plain": [
       "Consumption    0\n",
       "Wind           0\n",
       "Solar          0\n",
       "Wind+Solar     0\n",
       "month          0\n",
       "year           0\n",
       "dtype: int64"
      ]
     },
     "execution_count": 27,
     "metadata": {},
     "output_type": "execute_result"
    }
   ],
>>>>>>> 403f7d241285418f3c74e3e3f67c5cd4de6c756b
   "source": [
    "opsd.isnull().sum()"
   ]
  },
  {
   "cell_type": "code",
   "execution_count": null,
   "id": "6621ca38",
   "metadata": {},
   "outputs": [],
   "source": []
  },
  {
   "cell_type": "code",
   "execution_count": null,
   "id": "3fa42c48",
   "metadata": {},
   "outputs": [],
   "source": []
  }
 ],
 "metadata": {
  "kernelspec": {
   "display_name": "Python 3 (ipykernel)",
   "language": "python",
   "name": "python3"
  },
  "language_info": {
   "codemirror_mode": {
    "name": "ipython",
    "version": 3
   },
   "file_extension": ".py",
   "mimetype": "text/x-python",
   "name": "python",
   "nbconvert_exporter": "python",
   "pygments_lexer": "ipython3",
   "version": "3.8.8"
  }
 },
 "nbformat": 4,
 "nbformat_minor": 5
}
