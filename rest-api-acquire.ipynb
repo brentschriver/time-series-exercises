{
 "cells": [
  {
   "cell_type": "markdown",
   "id": "0d44c9b0",
   "metadata": {},
   "source": [
    "### 1. Using the code from the lesson as a guide and the REST API from https://python.zgulde.net/api/v1/items as we did in the lesson, create a dataframe named items that has all of the data for items."
   ]
  },
  {
   "cell_type": "code",
   "execution_count": 3,
   "id": "ddb2ff57",
   "metadata": {},
   "outputs": [],
   "source": [
    "import requests\n",
    "import pandas as pd\n",
    "import numpy as np"
   ]
  },
  {
   "cell_type": "code",
   "execution_count": null,
   "id": "1c60fc4a",
   "metadata": {},
   "outputs": [],
   "source": [
    "# Create a function that receives the base url for python.zgulde.net and returns a dataframe of the items\n",
    "def acquire_zgulde_items(base_url):\n",
    "    # Append api/v1/items to the base url\n",
    "    url = '/api/v1/items'\n",
    "    # Set up connection to destination\n",
    "    response = requests.get(base_url + url)\n",
    "    # Store the contents of the url in a variable\n",
    "    data = response.json()\n",
    "    # Store contents into a Pandas dataframe.\n",
    "    items_df = pd.DataFrame(data['payload']['items'])\n",
    "    # Get the url of the next page to acquire the next list of items.\n",
    "    page_2 = data['payload']['next_page']\n",
    "    \n",
    "    # Create new value for response as the connection to the second page\n",
    "    response = requests.get(base_url + page_2)\n",
    "    # Concat dataframe of the second page to first\n",
    "    items_df = pd.concat([items_df, pd.DataFrame(response.json()['payload']['items'])]).reset_index()\n",
    "\n",
    "    page_3 = data['payload']['next_page']\n",
    "    response = requests.get(base_url + page_3)\n",
    "    items_df = pd.concat([items_df, pd.DataFrame(response.json()['payload']['items'])]).reset_index()\n",
    "    return items_df"
   ]
  },
  {
   "cell_type": "code",
   "execution_count": null,
   "id": "15ac0c15",
   "metadata": {},
   "outputs": [],
   "source": [
    "# Create a function that receives the base url for python.zgulde.net and returns a dataframe of the stores\n",
    "def acquire_zgulde_stores(base_url):\n",
    "    url = '/api/v1/stores'\n",
    "    response = requests.get(base_url + url)\n",
    "    data = response.json()\n",
    "    stores_df = pd.DataFrame(data['payload']['stores'])\n",
    "    return stores_df"
   ]
  },
  {
   "cell_type": "code",
   "execution_count": null,
   "id": "b6f4b938",
   "metadata": {},
   "outputs": [],
   "source": [
    "def acquire_zgulde_sales(base_url):\n",
    "    url = base_url\n",
    "    response = requests.get(base_url + '/api/v1/sales')\n",
    "    data = response.json()\n",
    "    sales_df = pd.DataFrame(data['payload']['sales'])\n",
    "    next_page = data['payload']['next_page']\n",
    "    max_page = data['payload']['max_page']\n",
    "    \n",
    "    for n in np.arange(max_page - 1):\n",
    "        response = requests.get(base_url + next_page)\n",
    "        data = response.json()\n",
    "        new_sales_df = pd.DataFrame(data['payload']['sales'])\n",
    "        # Concate previous dataframe with new one\n",
    "        sales_df = pd.concat([sales_df, new_sales_df])\n",
    "    pd.to_csv('zgulde-sales')\n",
    "    return sales_df"
   ]
  },
  {
   "cell_type": "code",
   "execution_count": null,
   "id": "4b9baa2c",
   "metadata": {},
   "outputs": [],
   "source": []
  },
  {
   "cell_type": "code",
   "execution_count": null,
   "id": "e05970c6",
   "metadata": {},
   "outputs": [],
   "source": [
    "url = 'https://python.zgulde.net/api/v1/stores'"
   ]
  },
  {
   "cell_type": "code",
   "execution_count": null,
   "id": "ff9f646c",
   "metadata": {},
   "outputs": [],
   "source": [
    "response = requests.get(url)"
   ]
  },
  {
   "cell_type": "code",
   "execution_count": null,
   "id": "eed94ac4",
   "metadata": {},
   "outputs": [],
   "source": [
    "data = response.json()"
   ]
  },
  {
   "cell_type": "code",
   "execution_count": null,
   "id": "7ff1739b",
   "metadata": {},
   "outputs": [],
   "source": [
    "data['payload']['stores']"
   ]
  },
  {
   "cell_type": "code",
   "execution_count": null,
   "id": "7597145e",
   "metadata": {},
   "outputs": [],
   "source": []
  },
  {
   "cell_type": "code",
   "execution_count": null,
   "id": "765c6670",
   "metadata": {},
   "outputs": [],
   "source": []
  },
  {
   "cell_type": "code",
   "execution_count": null,
   "id": "41248088",
   "metadata": {},
   "outputs": [],
   "source": [
    "# Store the target url into a variable.\n",
    "url = 'https://python.zgulde.net'"
   ]
  },
  {
   "cell_type": "code",
   "execution_count": null,
   "id": "3ed4ecfb",
   "metadata": {},
   "outputs": [],
   "source": [
    "# Use the get function from requests to establish connection to server.\n",
    "response = requests.get(url)"
   ]
  },
  {
   "cell_type": "code",
   "execution_count": null,
   "id": "9663d880",
   "metadata": {},
   "outputs": [],
   "source": [
    "# Verify successful connection.\n",
    "response"
   ]
  },
  {
   "cell_type": "code",
   "execution_count": null,
   "id": "4c393a96",
   "metadata": {},
   "outputs": [],
   "source": [
    "# Store the contents of the url into a variable.\n",
    "data = response.json()"
   ]
  },
  {
   "cell_type": "code",
   "execution_count": null,
   "id": "0c9cd4c6",
   "metadata": {},
   "outputs": [],
   "source": [
    "# Visualize the contents.\n",
    "data"
   ]
  },
  {
   "cell_type": "code",
   "execution_count": null,
   "id": "7e20e6e4",
   "metadata": {},
   "outputs": [],
   "source": [
    "# Access the keys of the content to understand how to navigate.\n",
    "data.keys()"
   ]
  },
  {
   "cell_type": "code",
   "execution_count": null,
   "id": "81ee7faa",
   "metadata": {},
   "outputs": [],
   "source": [
    "data['api']"
   ]
  },
  {
   "cell_type": "code",
   "execution_count": null,
   "id": "cd1c56a2",
   "metadata": {},
   "outputs": [],
   "source": [
    "response = requests.get(url + data['api'])"
   ]
  },
  {
   "cell_type": "code",
   "execution_count": null,
   "id": "415d5e3d",
   "metadata": {},
   "outputs": [],
   "source": [
    "data = response.json()"
   ]
  },
  {
   "cell_type": "code",
   "execution_count": null,
   "id": "b0510098",
   "metadata": {},
   "outputs": [],
   "source": [
    "# Access the contents of the payload key.\n",
    "data['payload']['routes']"
   ]
  },
  {
   "cell_type": "code",
   "execution_count": null,
   "id": "1aaef095",
   "metadata": {},
   "outputs": [],
   "source": [
    "response = requests.get(url + '/api/v1/items')"
   ]
  },
  {
   "cell_type": "code",
   "execution_count": null,
   "id": "227017ed",
   "metadata": {},
   "outputs": [],
   "source": [
    "data = response.json()"
   ]
  },
  {
   "cell_type": "code",
   "execution_count": null,
   "id": "bdcb134e",
   "metadata": {},
   "outputs": [],
   "source": [
    "data"
   ]
  },
  {
   "cell_type": "code",
   "execution_count": null,
   "id": "d25757a4",
   "metadata": {},
   "outputs": [],
   "source": [
    "# Access the payload's keys as a list\n",
    "list(data['payload'].keys())"
   ]
  },
  {
   "cell_type": "code",
   "execution_count": null,
   "id": "f3adf66e",
   "metadata": {},
   "outputs": [],
   "source": [
    "# Print the values of page and previous_page\n",
    "print('page: %s' % data['payload']['max_page'])\n",
    "print('previous_page: %s' % data['payload']['previous_page'])"
   ]
  },
  {
   "cell_type": "code",
   "execution_count": null,
   "id": "179a852b",
   "metadata": {},
   "outputs": [],
   "source": [
    "# Check the contents of payload's items key\n",
    "data['payload']['items']"
   ]
  },
  {
   "cell_type": "code",
   "execution_count": null,
   "id": "09cc6995",
   "metadata": {},
   "outputs": [],
   "source": [
    "# Convert the contents of the items key into a pandas dataframe.\n",
    "items_df = pd.DataFrame(data['payload']['items'])"
   ]
  },
  {
   "cell_type": "code",
   "execution_count": null,
   "id": "845c1837",
   "metadata": {},
   "outputs": [],
   "source": [
    "# Check out the newly acquired dataframe.\n",
    "items_df"
   ]
  },
  {
   "cell_type": "code",
   "execution_count": null,
   "id": "03dfe292",
   "metadata": {},
   "outputs": [],
   "source": [
    "# Get the url of the next page to acquire the next list of items.\n",
    "page_2 = data['payload']['next_page']"
   ]
  },
  {
   "cell_type": "code",
   "execution_count": null,
   "id": "d10e135c",
   "metadata": {},
   "outputs": [],
   "source": [
    "# Create new value for response as the connection to the second page\n",
    "response = requests.get(url + page_2)"
   ]
  },
  {
   "cell_type": "code",
   "execution_count": null,
   "id": "f61ab649",
   "metadata": {},
   "outputs": [],
   "source": [
    "items_df = pd.concat([items_df, pd.DataFrame(response.json()['payload']['items'])]).reset_index()"
   ]
  },
  {
   "cell_type": "code",
   "execution_count": null,
   "id": "36d0c090",
   "metadata": {},
   "outputs": [],
   "source": [
    "items_df"
   ]
  },
  {
   "cell_type": "code",
   "execution_count": null,
   "id": "d0def7c6",
   "metadata": {},
   "outputs": [],
   "source": [
    "response.json()['payload']['next_page']"
   ]
  },
  {
   "cell_type": "code",
   "execution_count": null,
   "id": "e5c10c78",
   "metadata": {},
   "outputs": [],
   "source": [
    "response = requests.get(url + response.json()['payload']['next_page'])"
   ]
  },
  {
   "cell_type": "code",
   "execution_count": null,
   "id": "1b708b7a",
   "metadata": {},
   "outputs": [],
   "source": [
    "items_df = pd.concat([items_df, pd.DataFrame(response.json()['payload']['items'])])"
   ]
  },
  {
   "cell_type": "code",
   "execution_count": null,
   "id": "1cb4b460",
   "metadata": {},
   "outputs": [],
   "source": [
    "sales_df.sale_id.value_counts()"
   ]
  },
  {
   "cell_type": "code",
   "execution_count": null,
   "id": "7e4a16bb",
   "metadata": {},
   "outputs": [],
   "source": [
    "items_df"
   ]
  },
  {
   "cell_type": "markdown",
   "id": "93b86fda",
   "metadata": {},
   "source": [
    "### 2. Do the same thing, but for stores (https://python.zgulde.net/api/v1/stores)"
   ]
  },
  {
   "cell_type": "code",
   "execution_count": null,
   "id": "57748bfc",
   "metadata": {},
   "outputs": [],
   "source": [
    "# Create url path\n",
    "url = 'https://python.zgulde.net'"
   ]
  },
  {
   "cell_type": "code",
   "execution_count": null,
   "id": "813ab196",
   "metadata": {},
   "outputs": [],
   "source": [
    "# Store connection into a variable\n",
    "response = requests.get(url + '/api/v1/stores')"
   ]
  },
  {
   "cell_type": "code",
   "execution_count": null,
   "id": "c3a0109c",
   "metadata": {},
   "outputs": [],
   "source": [
    "# Check the keys for the contents of the url\n",
    "response.json().keys()"
   ]
  },
  {
   "cell_type": "code",
   "execution_count": null,
   "id": "1aaec3ce",
   "metadata": {},
   "outputs": [],
   "source": [
    "# So I don't have to keep typing json\n",
    "data = response.json()"
   ]
  },
  {
   "cell_type": "code",
   "execution_count": null,
   "id": "bd97a78e",
   "metadata": {},
   "outputs": [],
   "source": [
    "data['payload'].keys()"
   ]
  },
  {
   "cell_type": "code",
   "execution_count": null,
   "id": "ee005d06",
   "metadata": {},
   "outputs": [],
   "source": [
    "stores_df = pd.DataFrame(data['payload']['stores'])"
   ]
  },
  {
   "cell_type": "code",
   "execution_count": null,
   "id": "6ec72b1e",
   "metadata": {},
   "outputs": [],
   "source": [
    "stores_df"
   ]
  },
  {
   "cell_type": "markdown",
   "id": "cf2eeac5",
   "metadata": {},
   "source": [
    "### 3. Extract the data for sales (https://python.zgulde.net/api/v1/sales). There are a lot of pages of data here, so your code will need to be a little more complex. Your code should continue fetching data from the next page until all of the data is extracted."
   ]
  },
  {
   "cell_type": "code",
   "execution_count": null,
   "id": "73d064d2",
   "metadata": {},
   "outputs": [],
   "source": [
    "data['payload'].keys()"
   ]
  },
  {
   "cell_type": "code",
   "execution_count": null,
   "id": "dbe6e3d7",
   "metadata": {},
   "outputs": [],
   "source": [
    "data['payload']['next_page']"
   ]
  },
  {
   "cell_type": "code",
   "execution_count": null,
   "id": "1a6227b0",
   "metadata": {},
   "outputs": [],
   "source": [
    "response = requests.get(base_url + data['payload']['next_page'])"
   ]
  },
  {
   "cell_type": "code",
   "execution_count": null,
   "id": "1d08a28d",
   "metadata": {},
   "outputs": [],
   "source": [
    "response.json()"
   ]
  },
  {
   "cell_type": "code",
   "execution_count": null,
   "id": "a04e11cc",
   "metadata": {},
   "outputs": [],
   "source": [
    "pd.DataFrame(sales_data)"
   ]
  },
  {
   "cell_type": "code",
   "execution_count": 6,
   "id": "5ce8d90f",
   "metadata": {},
   "outputs": [],
   "source": [
    "def acquire_zgulde_sales(base_url):\n",
    "    url = base_url\n",
    "    response = requests.get(base_url + '/api/v1/sales')\n",
    "    data = response.json()\n",
    "    sales_df = pd.DataFrame(data['payload']['sales'])\n",
    "    next_page = data['payload']['next_page']\n",
    "    max_page = data['payload']['max_page']\n",
    "    \n",
    "    for n in np.arange(max_page - 1):\n",
    "        response = requests.get(base_url + next_page)\n",
    "        data = response.json()\n",
    "        new_sales_df = pd.DataFrame(data['payload']['sales'])\n",
    "        # Concate previous dataframe with new one\n",
    "        sales_df = pd.concat([sales_df, new_sales_df])\n",
    "    sales_df.to_csv('zgulde-sales')\n",
    "    return sales_df"
   ]
  },
  {
   "cell_type": "code",
   "execution_count": 7,
   "id": "7806fd13",
   "metadata": {},
   "outputs": [],
   "source": [
    "sales_df = acquire_zgulde_sales('https://python.zgulde.net')"
   ]
  },
  {
   "cell_type": "code",
   "execution_count": 8,
   "id": "65e655ca",
   "metadata": {},
   "outputs": [
    {
     "data": {
      "text/html": [
       "<div>\n",
       "<style scoped>\n",
       "    .dataframe tbody tr th:only-of-type {\n",
       "        vertical-align: middle;\n",
       "    }\n",
       "\n",
       "    .dataframe tbody tr th {\n",
       "        vertical-align: top;\n",
       "    }\n",
       "\n",
       "    .dataframe thead th {\n",
       "        text-align: right;\n",
       "    }\n",
       "</style>\n",
       "<table border=\"1\" class=\"dataframe\">\n",
       "  <thead>\n",
       "    <tr style=\"text-align: right;\">\n",
       "      <th></th>\n",
       "      <th>item</th>\n",
       "      <th>sale_amount</th>\n",
       "      <th>sale_date</th>\n",
       "      <th>sale_id</th>\n",
       "      <th>store</th>\n",
       "    </tr>\n",
       "  </thead>\n",
       "  <tbody>\n",
       "    <tr>\n",
       "      <th>0</th>\n",
       "      <td>1</td>\n",
       "      <td>13.0</td>\n",
       "      <td>Tue, 01 Jan 2013 00:00:00 GMT</td>\n",
       "      <td>1</td>\n",
       "      <td>1</td>\n",
       "    </tr>\n",
       "    <tr>\n",
       "      <th>1</th>\n",
       "      <td>1</td>\n",
       "      <td>11.0</td>\n",
       "      <td>Wed, 02 Jan 2013 00:00:00 GMT</td>\n",
       "      <td>2</td>\n",
       "      <td>1</td>\n",
       "    </tr>\n",
       "    <tr>\n",
       "      <th>2</th>\n",
       "      <td>1</td>\n",
       "      <td>14.0</td>\n",
       "      <td>Thu, 03 Jan 2013 00:00:00 GMT</td>\n",
       "      <td>3</td>\n",
       "      <td>1</td>\n",
       "    </tr>\n",
       "    <tr>\n",
       "      <th>3</th>\n",
       "      <td>1</td>\n",
       "      <td>13.0</td>\n",
       "      <td>Fri, 04 Jan 2013 00:00:00 GMT</td>\n",
       "      <td>4</td>\n",
       "      <td>1</td>\n",
       "    </tr>\n",
       "    <tr>\n",
       "      <th>4</th>\n",
       "      <td>1</td>\n",
       "      <td>10.0</td>\n",
       "      <td>Sat, 05 Jan 2013 00:00:00 GMT</td>\n",
       "      <td>5</td>\n",
       "      <td>1</td>\n",
       "    </tr>\n",
       "    <tr>\n",
       "      <th>...</th>\n",
       "      <td>...</td>\n",
       "      <td>...</td>\n",
       "      <td>...</td>\n",
       "      <td>...</td>\n",
       "      <td>...</td>\n",
       "    </tr>\n",
       "    <tr>\n",
       "      <th>4995</th>\n",
       "      <td>1</td>\n",
       "      <td>15.0</td>\n",
       "      <td>Sat, 16 May 2015 00:00:00 GMT</td>\n",
       "      <td>9996</td>\n",
       "      <td>6</td>\n",
       "    </tr>\n",
       "    <tr>\n",
       "      <th>4996</th>\n",
       "      <td>1</td>\n",
       "      <td>24.0</td>\n",
       "      <td>Sun, 17 May 2015 00:00:00 GMT</td>\n",
       "      <td>9997</td>\n",
       "      <td>6</td>\n",
       "    </tr>\n",
       "    <tr>\n",
       "      <th>4997</th>\n",
       "      <td>1</td>\n",
       "      <td>13.0</td>\n",
       "      <td>Mon, 18 May 2015 00:00:00 GMT</td>\n",
       "      <td>9998</td>\n",
       "      <td>6</td>\n",
       "    </tr>\n",
       "    <tr>\n",
       "      <th>4998</th>\n",
       "      <td>1</td>\n",
       "      <td>17.0</td>\n",
       "      <td>Tue, 19 May 2015 00:00:00 GMT</td>\n",
       "      <td>9999</td>\n",
       "      <td>6</td>\n",
       "    </tr>\n",
       "    <tr>\n",
       "      <th>4999</th>\n",
       "      <td>1</td>\n",
       "      <td>20.0</td>\n",
       "      <td>Wed, 20 May 2015 00:00:00 GMT</td>\n",
       "      <td>10000</td>\n",
       "      <td>6</td>\n",
       "    </tr>\n",
       "  </tbody>\n",
       "</table>\n",
       "<p>915000 rows × 5 columns</p>\n",
       "</div>"
      ],
      "text/plain": [
       "      item  sale_amount                      sale_date  sale_id  store\n",
       "0        1         13.0  Tue, 01 Jan 2013 00:00:00 GMT        1      1\n",
       "1        1         11.0  Wed, 02 Jan 2013 00:00:00 GMT        2      1\n",
       "2        1         14.0  Thu, 03 Jan 2013 00:00:00 GMT        3      1\n",
       "3        1         13.0  Fri, 04 Jan 2013 00:00:00 GMT        4      1\n",
       "4        1         10.0  Sat, 05 Jan 2013 00:00:00 GMT        5      1\n",
       "...    ...          ...                            ...      ...    ...\n",
       "4995     1         15.0  Sat, 16 May 2015 00:00:00 GMT     9996      6\n",
       "4996     1         24.0  Sun, 17 May 2015 00:00:00 GMT     9997      6\n",
       "4997     1         13.0  Mon, 18 May 2015 00:00:00 GMT     9998      6\n",
       "4998     1         17.0  Tue, 19 May 2015 00:00:00 GMT     9999      6\n",
       "4999     1         20.0  Wed, 20 May 2015 00:00:00 GMT    10000      6\n",
       "\n",
       "[915000 rows x 5 columns]"
      ]
     },
     "execution_count": 8,
     "metadata": {},
     "output_type": "execute_result"
    }
   ],
   "source": [
    "sales_df"
   ]
  },
  {
   "cell_type": "markdown",
   "id": "46477268",
   "metadata": {},
   "source": [
    "### 4. Save the data in your files to local csv files so that it will be faster to access in the future."
   ]
  },
  {
   "cell_type": "code",
   "execution_count": null,
   "id": "e81ccb74",
   "metadata": {},
   "outputs": [],
   "source": [
    "sales_df.to_csv('sales_df.csv')\n",
    "items_df.to_csv('items_df.csv')\n",
    "stores_df.to_csv('stores_df.csv')"
   ]
  },
  {
   "cell_type": "markdown",
   "id": "39441493",
   "metadata": {},
   "source": [
    "### 5. Combine the data from your three separate dataframes into one large dataframe.\n"
   ]
  },
  {
   "cell_type": "code",
   "execution_count": null,
   "id": "177a74a3",
   "metadata": {},
   "outputs": [],
   "source": [
    "sales_df"
   ]
  },
  {
   "cell_type": "code",
   "execution_count": null,
   "id": "a0f6cc1b",
   "metadata": {},
   "outputs": [],
   "source": [
    "items_df"
   ]
  },
  {
   "cell_type": "code",
   "execution_count": null,
   "id": "63e9dac3",
   "metadata": {},
   "outputs": [],
   "source": [
    "store_sales = pd.merge(stores_df, sales_df, left_on='store_id', right_on='store', how='right')"
   ]
  },
  {
   "cell_type": "code",
   "execution_count": null,
   "id": "5a0a7ca5",
   "metadata": {},
   "outputs": [],
   "source": [
    "pd.merge(store_sales, items_df, left_on='role_id', right_on='id', how='left')"
   ]
  },
  {
   "cell_type": "code",
   "execution_count": null,
   "id": "02361c0b",
   "metadata": {},
   "outputs": [],
   "source": []
  },
  {
   "cell_type": "code",
   "execution_count": null,
   "id": "54a10c8c",
   "metadata": {},
   "outputs": [],
   "source": [
    "stores_df.info(), sales_df.info(), items_df.info()"
   ]
  },
  {
   "cell_type": "markdown",
   "id": "cdba5945",
   "metadata": {},
   "source": [
    "### 6. Acquire the Open Power Systems Data for Germany, which has been rapidly expanding its renewable energy production in recent years. The data set includes country-wide totals of electricity consumption, wind power production, and solar power production for 2006-2017. You can get the data here: https://raw.githubusercontent.com/jenfly/opsd/master/opsd_germany_daily.csv"
   ]
  },
  {
   "cell_type": "code",
   "execution_count": null,
   "id": "499a36ba",
   "metadata": {},
   "outputs": [],
   "source": [
    "url = 'https://raw.githubusercontent.com/jenfly/opsd/master/opsd_germany_daily.csv'"
   ]
  },
  {
   "cell_type": "code",
   "execution_count": null,
   "id": "d35b4a1c",
   "metadata": {},
   "outputs": [],
   "source": [
    "opsd = pd.read_csv('https://raw.githubusercontent.com/jenfly/opsd/master/opsd_germany_daily.csv')"
   ]
  },
  {
   "cell_type": "code",
   "execution_count": null,
   "id": "7738d025",
   "metadata": {},
   "outputs": [],
   "source": [
    "opsd"
   ]
  },
  {
   "cell_type": "markdown",
   "id": "1c7665fe",
   "metadata": {},
   "source": [
    "### 7. Make sure all the work that you have done above is reproducible. That is, you should put the code above into separate functions in the acquire.py file and be able to re-run the functions and get the same data."
   ]
  },
  {
   "cell_type": "code",
   "execution_count": null,
   "id": "ddbc6b52",
   "metadata": {},
   "outputs": [],
   "source": [
    "# Run this cell to tell your gitignore to ignore all CSV files \n",
    "# The ! in a jupyter notebook is a way to issue commands to the command line\n",
    "!echo \"*.csv\" >> .gitignore"
   ]
  },
  {
   "cell_type": "code",
   "execution_count": null,
   "id": "37dab6e7",
   "metadata": {},
   "outputs": [],
   "source": []
  }
 ],
 "metadata": {
  "kernelspec": {
   "display_name": "Python 3 (ipykernel)",
   "language": "python",
   "name": "python3"
  },
  "language_info": {
   "codemirror_mode": {
    "name": "ipython",
    "version": 3
   },
   "file_extension": ".py",
   "mimetype": "text/x-python",
   "name": "python",
   "nbconvert_exporter": "python",
   "pygments_lexer": "ipython3",
   "version": "3.8.8"
  }
 },
 "nbformat": 4,
 "nbformat_minor": 5
}
