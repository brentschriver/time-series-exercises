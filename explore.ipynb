{
 "cells": [
  {
   "cell_type": "code",
   "execution_count": 1,
   "id": "bc9634fc",
   "metadata": {},
   "outputs": [],
   "source": [
    "import numpy as np\n",
    "import pandas as pd\n",
    "import matplotlib.pyplot as plt\n",
    "import seaborn as sns\n",
    "import statsmodels.api as sm\n",
    "from acquire import get_store_data\n",
    "from acquire import get_power_data"
   ]
  },
  {
   "cell_type": "markdown",
   "id": "713f8d68",
   "metadata": {},
   "source": [
    "### Exercise \n",
    "\n",
    "Do your work for this exercise in a notebook named explore. Use the techniques in the lesson to explore the store item demand dataset and the opsd dataset.\n",
    "\n",
    "For the store item demand data, you will need to choose a method of aggregating such that each observation is a unique date. For both datasets you should choose a method of splitting your data and only explore the training split."
   ]
  },
  {
   "cell_type": "code",
   "execution_count": 2,
   "id": "39f47f3d",
   "metadata": {},
   "outputs": [
    {
     "name": "stdout",
     "output_type": "stream",
     "text": [
      "Data is not cached. Acquiring new data...\n",
      "Items data acquired...\n",
      "Stores data acquired...\n",
      "Sales data acquired\n",
      "Saving data to .csv files\n",
      "Saving all stores data to csv.\n",
      "Data is cached. Reading data from .csv file.\n",
      "Acquisition complete\n"
     ]
    }
   ],
   "source": [
    "store = get_store_data()\n",
    "opsd = get_power_data()"
   ]
  },
  {
   "cell_type": "code",
   "execution_count": 3,
   "id": "be361c45",
   "metadata": {},
   "outputs": [
    {
     "name": "stdout",
     "output_type": "stream",
     "text": [
      "<class 'pandas.core.frame.DataFrame'>\n",
      "DatetimeIndex: 913000 entries, 2013-01-01 00:00:00+00:00 to 2017-12-31 00:00:00+00:00\n",
      "Data columns (total 13 columns):\n",
      " #   Column         Non-Null Count   Dtype  \n",
      "---  ------         --------------   -----  \n",
      " 0   sale_amount    913000 non-null  float64\n",
      " 1   sale_id        913000 non-null  int64  \n",
      " 2   item_brand     913000 non-null  object \n",
      " 3   item_id        913000 non-null  int64  \n",
      " 4   item_name      913000 non-null  object \n",
      " 5   item_price     913000 non-null  float64\n",
      " 6   item_upc12     913000 non-null  object \n",
      " 7   item_upc14     913000 non-null  object \n",
      " 8   store_address  913000 non-null  object \n",
      " 9   store_city     913000 non-null  object \n",
      " 10  store_id       913000 non-null  int64  \n",
      " 11  store_state    913000 non-null  object \n",
      " 12  store_zipcode  913000 non-null  object \n",
      "dtypes: float64(2), int64(3), object(8)\n",
      "memory usage: 97.5+ MB\n"
     ]
    }
   ],
   "source": [
    "# Check data types and column names\n",
    "store.info()"
   ]
  },
  {
   "cell_type": "markdown",
   "id": "70d6530b",
   "metadata": {},
   "source": [
    "* Sale_date is an object -> DatetimeIndex\n",
    "* No null values\n",
    "* Drop 'item_upc12','item_upc14'\n"
   ]
  },
  {
   "cell_type": "code",
   "execution_count": 4,
   "id": "5d6f13c8",
   "metadata": {},
   "outputs": [
    {
     "data": {
      "text/html": [
       "<div>\n",
       "<style scoped>\n",
       "    .dataframe tbody tr th:only-of-type {\n",
       "        vertical-align: middle;\n",
       "    }\n",
       "\n",
       "    .dataframe tbody tr th {\n",
       "        vertical-align: top;\n",
       "    }\n",
       "\n",
       "    .dataframe thead th {\n",
       "        text-align: right;\n",
       "    }\n",
       "</style>\n",
       "<table border=\"1\" class=\"dataframe\">\n",
       "  <thead>\n",
       "    <tr style=\"text-align: right;\">\n",
       "      <th></th>\n",
       "      <th>sale_amount</th>\n",
       "      <th>sale_id</th>\n",
       "      <th>item_brand</th>\n",
       "      <th>item_id</th>\n",
       "      <th>item_name</th>\n",
       "      <th>item_price</th>\n",
       "      <th>item_upc12</th>\n",
       "      <th>item_upc14</th>\n",
       "      <th>store_address</th>\n",
       "      <th>store_city</th>\n",
       "      <th>store_id</th>\n",
       "      <th>store_state</th>\n",
       "      <th>store_zipcode</th>\n",
       "    </tr>\n",
       "    <tr>\n",
       "      <th>sale_date</th>\n",
       "      <th></th>\n",
       "      <th></th>\n",
       "      <th></th>\n",
       "      <th></th>\n",
       "      <th></th>\n",
       "      <th></th>\n",
       "      <th></th>\n",
       "      <th></th>\n",
       "      <th></th>\n",
       "      <th></th>\n",
       "      <th></th>\n",
       "      <th></th>\n",
       "      <th></th>\n",
       "    </tr>\n",
       "  </thead>\n",
       "  <tbody>\n",
       "    <tr>\n",
       "      <th>2013-01-01 00:00:00+00:00</th>\n",
       "      <td>13.0</td>\n",
       "      <td>1</td>\n",
       "      <td>Riceland</td>\n",
       "      <td>1</td>\n",
       "      <td>Riceland American Jazmine Rice</td>\n",
       "      <td>0.84</td>\n",
       "      <td>35200264013</td>\n",
       "      <td>35200264013</td>\n",
       "      <td>12125 Alamo Ranch Pkwy</td>\n",
       "      <td>San Antonio</td>\n",
       "      <td>1</td>\n",
       "      <td>TX</td>\n",
       "      <td>78253</td>\n",
       "    </tr>\n",
       "    <tr>\n",
       "      <th>2013-01-01 00:00:00+00:00</th>\n",
       "      <td>26.0</td>\n",
       "      <td>211817</td>\n",
       "      <td>Mueller</td>\n",
       "      <td>12</td>\n",
       "      <td>Mueller Sport Care Basic Support Level Medium ...</td>\n",
       "      <td>8.40</td>\n",
       "      <td>74676640211</td>\n",
       "      <td>74676640211</td>\n",
       "      <td>12018 Perrin Beitel Rd</td>\n",
       "      <td>San Antonio</td>\n",
       "      <td>7</td>\n",
       "      <td>TX</td>\n",
       "      <td>78217</td>\n",
       "    </tr>\n",
       "    <tr>\n",
       "      <th>2013-01-01 00:00:00+00:00</th>\n",
       "      <td>27.0</td>\n",
       "      <td>832657</td>\n",
       "      <td>Mama Marys</td>\n",
       "      <td>46</td>\n",
       "      <td>Pizza Sauce</td>\n",
       "      <td>4.65</td>\n",
       "      <td>35457770664</td>\n",
       "      <td>35457770664</td>\n",
       "      <td>12018 Perrin Beitel Rd</td>\n",
       "      <td>San Antonio</td>\n",
       "      <td>7</td>\n",
       "      <td>TX</td>\n",
       "      <td>78217</td>\n",
       "    </tr>\n",
       "    <tr>\n",
       "      <th>2013-01-01 00:00:00+00:00</th>\n",
       "      <td>54.0</td>\n",
       "      <td>213643</td>\n",
       "      <td>Mueller</td>\n",
       "      <td>12</td>\n",
       "      <td>Mueller Sport Care Basic Support Level Medium ...</td>\n",
       "      <td>8.40</td>\n",
       "      <td>74676640211</td>\n",
       "      <td>74676640211</td>\n",
       "      <td>15000 San Pedro Ave</td>\n",
       "      <td>San Antonio</td>\n",
       "      <td>8</td>\n",
       "      <td>TX</td>\n",
       "      <td>78232</td>\n",
       "    </tr>\n",
       "    <tr>\n",
       "      <th>2013-01-01 00:00:00+00:00</th>\n",
       "      <td>35.0</td>\n",
       "      <td>215469</td>\n",
       "      <td>Mueller</td>\n",
       "      <td>12</td>\n",
       "      <td>Mueller Sport Care Basic Support Level Medium ...</td>\n",
       "      <td>8.40</td>\n",
       "      <td>74676640211</td>\n",
       "      <td>74676640211</td>\n",
       "      <td>735 SW Military Dr</td>\n",
       "      <td>San Antonio</td>\n",
       "      <td>9</td>\n",
       "      <td>TX</td>\n",
       "      <td>78221</td>\n",
       "    </tr>\n",
       "    <tr>\n",
       "      <th>...</th>\n",
       "      <td>...</td>\n",
       "      <td>...</td>\n",
       "      <td>...</td>\n",
       "      <td>...</td>\n",
       "      <td>...</td>\n",
       "      <td>...</td>\n",
       "      <td>...</td>\n",
       "      <td>...</td>\n",
       "      <td>...</td>\n",
       "      <td>...</td>\n",
       "      <td>...</td>\n",
       "      <td>...</td>\n",
       "      <td>...</td>\n",
       "    </tr>\n",
       "    <tr>\n",
       "      <th>2017-12-31 00:00:00+00:00</th>\n",
       "      <td>21.0</td>\n",
       "      <td>619014</td>\n",
       "      <td>Halls</td>\n",
       "      <td>34</td>\n",
       "      <td>Halls Menthol Cough Suppresant/oral Anesthetic...</td>\n",
       "      <td>4.17</td>\n",
       "      <td>312546628694</td>\n",
       "      <td>312546628694</td>\n",
       "      <td>735 SW Military Dr</td>\n",
       "      <td>San Antonio</td>\n",
       "      <td>9</td>\n",
       "      <td>TX</td>\n",
       "      <td>78221</td>\n",
       "    </tr>\n",
       "    <tr>\n",
       "      <th>2017-12-31 00:00:00+00:00</th>\n",
       "      <td>32.0</td>\n",
       "      <td>620840</td>\n",
       "      <td>Halls</td>\n",
       "      <td>34</td>\n",
       "      <td>Halls Menthol Cough Suppresant/oral Anesthetic...</td>\n",
       "      <td>4.17</td>\n",
       "      <td>312546628694</td>\n",
       "      <td>312546628694</td>\n",
       "      <td>8503 NW Military Hwy</td>\n",
       "      <td>San Antonio</td>\n",
       "      <td>10</td>\n",
       "      <td>TX</td>\n",
       "      <td>78231</td>\n",
       "    </tr>\n",
       "    <tr>\n",
       "      <th>2017-12-31 00:00:00+00:00</th>\n",
       "      <td>55.0</td>\n",
       "      <td>622666</td>\n",
       "      <td>Natures Way</td>\n",
       "      <td>35</td>\n",
       "      <td>Natures Way Forskohlii - 60 Ct</td>\n",
       "      <td>5.19</td>\n",
       "      <td>33674100066</td>\n",
       "      <td>33674100066</td>\n",
       "      <td>12125 Alamo Ranch Pkwy</td>\n",
       "      <td>San Antonio</td>\n",
       "      <td>1</td>\n",
       "      <td>TX</td>\n",
       "      <td>78253</td>\n",
       "    </tr>\n",
       "    <tr>\n",
       "      <th>2017-12-31 00:00:00+00:00</th>\n",
       "      <td>100.0</td>\n",
       "      <td>598928</td>\n",
       "      <td>The First Years</td>\n",
       "      <td>33</td>\n",
       "      <td>Tomy The First Years Gumdrop Orthodontic Pacif...</td>\n",
       "      <td>6.52</td>\n",
       "      <td>71463060078</td>\n",
       "      <td>71463060078</td>\n",
       "      <td>15000 San Pedro Ave</td>\n",
       "      <td>San Antonio</td>\n",
       "      <td>8</td>\n",
       "      <td>TX</td>\n",
       "      <td>78232</td>\n",
       "    </tr>\n",
       "    <tr>\n",
       "      <th>2017-12-31 00:00:00+00:00</th>\n",
       "      <td>82.0</td>\n",
       "      <td>913000</td>\n",
       "      <td>Choice</td>\n",
       "      <td>50</td>\n",
       "      <td>Choice Organic Teas Black Tea Classic Black - ...</td>\n",
       "      <td>5.20</td>\n",
       "      <td>47445919221</td>\n",
       "      <td>47445919221</td>\n",
       "      <td>8503 NW Military Hwy</td>\n",
       "      <td>San Antonio</td>\n",
       "      <td>10</td>\n",
       "      <td>TX</td>\n",
       "      <td>78231</td>\n",
       "    </tr>\n",
       "  </tbody>\n",
       "</table>\n",
       "<p>913000 rows × 13 columns</p>\n",
       "</div>"
      ],
      "text/plain": [
       "                           sale_amount  sale_id       item_brand  item_id  \\\n",
       "sale_date                                                                   \n",
       "2013-01-01 00:00:00+00:00         13.0        1         Riceland        1   \n",
       "2013-01-01 00:00:00+00:00         26.0   211817          Mueller       12   \n",
       "2013-01-01 00:00:00+00:00         27.0   832657       Mama Marys       46   \n",
       "2013-01-01 00:00:00+00:00         54.0   213643          Mueller       12   \n",
       "2013-01-01 00:00:00+00:00         35.0   215469          Mueller       12   \n",
       "...                                ...      ...              ...      ...   \n",
       "2017-12-31 00:00:00+00:00         21.0   619014            Halls       34   \n",
       "2017-12-31 00:00:00+00:00         32.0   620840            Halls       34   \n",
       "2017-12-31 00:00:00+00:00         55.0   622666      Natures Way       35   \n",
       "2017-12-31 00:00:00+00:00        100.0   598928  The First Years       33   \n",
       "2017-12-31 00:00:00+00:00         82.0   913000           Choice       50   \n",
       "\n",
       "                                                                   item_name  \\\n",
       "sale_date                                                                      \n",
       "2013-01-01 00:00:00+00:00                     Riceland American Jazmine Rice   \n",
       "2013-01-01 00:00:00+00:00  Mueller Sport Care Basic Support Level Medium ...   \n",
       "2013-01-01 00:00:00+00:00                                        Pizza Sauce   \n",
       "2013-01-01 00:00:00+00:00  Mueller Sport Care Basic Support Level Medium ...   \n",
       "2013-01-01 00:00:00+00:00  Mueller Sport Care Basic Support Level Medium ...   \n",
       "...                                                                      ...   \n",
       "2017-12-31 00:00:00+00:00  Halls Menthol Cough Suppresant/oral Anesthetic...   \n",
       "2017-12-31 00:00:00+00:00  Halls Menthol Cough Suppresant/oral Anesthetic...   \n",
       "2017-12-31 00:00:00+00:00                     Natures Way Forskohlii - 60 Ct   \n",
       "2017-12-31 00:00:00+00:00  Tomy The First Years Gumdrop Orthodontic Pacif...   \n",
       "2017-12-31 00:00:00+00:00  Choice Organic Teas Black Tea Classic Black - ...   \n",
       "\n",
       "                           item_price    item_upc12    item_upc14  \\\n",
       "sale_date                                                           \n",
       "2013-01-01 00:00:00+00:00        0.84   35200264013   35200264013   \n",
       "2013-01-01 00:00:00+00:00        8.40   74676640211   74676640211   \n",
       "2013-01-01 00:00:00+00:00        4.65   35457770664   35457770664   \n",
       "2013-01-01 00:00:00+00:00        8.40   74676640211   74676640211   \n",
       "2013-01-01 00:00:00+00:00        8.40   74676640211   74676640211   \n",
       "...                               ...           ...           ...   \n",
       "2017-12-31 00:00:00+00:00        4.17  312546628694  312546628694   \n",
       "2017-12-31 00:00:00+00:00        4.17  312546628694  312546628694   \n",
       "2017-12-31 00:00:00+00:00        5.19   33674100066   33674100066   \n",
       "2017-12-31 00:00:00+00:00        6.52   71463060078   71463060078   \n",
       "2017-12-31 00:00:00+00:00        5.20   47445919221   47445919221   \n",
       "\n",
       "                                    store_address   store_city  store_id  \\\n",
       "sale_date                                                                  \n",
       "2013-01-01 00:00:00+00:00  12125 Alamo Ranch Pkwy  San Antonio         1   \n",
       "2013-01-01 00:00:00+00:00  12018 Perrin Beitel Rd  San Antonio         7   \n",
       "2013-01-01 00:00:00+00:00  12018 Perrin Beitel Rd  San Antonio         7   \n",
       "2013-01-01 00:00:00+00:00     15000 San Pedro Ave  San Antonio         8   \n",
       "2013-01-01 00:00:00+00:00      735 SW Military Dr  San Antonio         9   \n",
       "...                                           ...          ...       ...   \n",
       "2017-12-31 00:00:00+00:00      735 SW Military Dr  San Antonio         9   \n",
       "2017-12-31 00:00:00+00:00    8503 NW Military Hwy  San Antonio        10   \n",
       "2017-12-31 00:00:00+00:00  12125 Alamo Ranch Pkwy  San Antonio         1   \n",
       "2017-12-31 00:00:00+00:00     15000 San Pedro Ave  San Antonio         8   \n",
       "2017-12-31 00:00:00+00:00    8503 NW Military Hwy  San Antonio        10   \n",
       "\n",
       "                          store_state store_zipcode  \n",
       "sale_date                                            \n",
       "2013-01-01 00:00:00+00:00          TX         78253  \n",
       "2013-01-01 00:00:00+00:00          TX         78217  \n",
       "2013-01-01 00:00:00+00:00          TX         78217  \n",
       "2013-01-01 00:00:00+00:00          TX         78232  \n",
       "2013-01-01 00:00:00+00:00          TX         78221  \n",
       "...                               ...           ...  \n",
       "2017-12-31 00:00:00+00:00          TX         78221  \n",
       "2017-12-31 00:00:00+00:00          TX         78231  \n",
       "2017-12-31 00:00:00+00:00          TX         78253  \n",
       "2017-12-31 00:00:00+00:00          TX         78232  \n",
       "2017-12-31 00:00:00+00:00          TX         78231  \n",
       "\n",
       "[913000 rows x 13 columns]"
      ]
     },
     "execution_count": 4,
     "metadata": {},
     "output_type": "execute_result"
    }
   ],
   "source": [
    "store"
   ]
  },
  {
   "cell_type": "code",
   "execution_count": 5,
   "id": "66ad9b9e",
   "metadata": {},
   "outputs": [
    {
     "data": {
      "text/plain": [
       "TX    913000\n",
       "Name: store_state, dtype: int64"
      ]
     },
     "execution_count": 5,
     "metadata": {},
     "output_type": "execute_result"
    }
   ],
   "source": [
    "# Check how many states are respresented in this data. If only one state, then consider dropping. (Same with city)\n",
    "store.store_state.value_counts()"
   ]
  },
  {
   "cell_type": "code",
   "execution_count": 6,
   "id": "e1506dbf",
   "metadata": {},
   "outputs": [
    {
     "data": {
      "text/plain": [
       "San Antonio    913000\n",
       "Name: store_city, dtype: int64"
      ]
     },
     "execution_count": 6,
     "metadata": {},
     "output_type": "execute_result"
    }
   ],
   "source": [
    "# Check how many cities are represented in this data. If only one city, then consider dropping and only using 'store_address' and 'store_zipcode' as identifiers of location.\n",
    "store.store_city.value_counts()"
   ]
  },
  {
   "cell_type": "code",
   "execution_count": 7,
   "id": "06bb8750",
   "metadata": {},
   "outputs": [
    {
     "data": {
      "text/html": [
       "<div>\n",
       "<style scoped>\n",
       "    .dataframe tbody tr th:only-of-type {\n",
       "        vertical-align: middle;\n",
       "    }\n",
       "\n",
       "    .dataframe tbody tr th {\n",
       "        vertical-align: top;\n",
       "    }\n",
       "\n",
       "    .dataframe thead th {\n",
       "        text-align: right;\n",
       "    }\n",
       "</style>\n",
       "<table border=\"1\" class=\"dataframe\">\n",
       "  <thead>\n",
       "    <tr style=\"text-align: right;\">\n",
       "      <th></th>\n",
       "      <th>sale_amount</th>\n",
       "      <th>sale_id</th>\n",
       "      <th>item_brand</th>\n",
       "      <th>item_id</th>\n",
       "      <th>item_name</th>\n",
       "      <th>item_price</th>\n",
       "      <th>item_upc12</th>\n",
       "      <th>item_upc14</th>\n",
       "      <th>store_address</th>\n",
       "      <th>store_city</th>\n",
       "      <th>store_id</th>\n",
       "      <th>store_state</th>\n",
       "      <th>store_zipcode</th>\n",
       "      <th>revenue</th>\n",
       "    </tr>\n",
       "    <tr>\n",
       "      <th>sale_date</th>\n",
       "      <th></th>\n",
       "      <th></th>\n",
       "      <th></th>\n",
       "      <th></th>\n",
       "      <th></th>\n",
       "      <th></th>\n",
       "      <th></th>\n",
       "      <th></th>\n",
       "      <th></th>\n",
       "      <th></th>\n",
       "      <th></th>\n",
       "      <th></th>\n",
       "      <th></th>\n",
       "      <th></th>\n",
       "    </tr>\n",
       "  </thead>\n",
       "  <tbody>\n",
       "    <tr>\n",
       "      <th>2013-01-01 00:00:00+00:00</th>\n",
       "      <td>13.0</td>\n",
       "      <td>1</td>\n",
       "      <td>Riceland</td>\n",
       "      <td>1</td>\n",
       "      <td>Riceland American Jazmine Rice</td>\n",
       "      <td>0.84</td>\n",
       "      <td>35200264013</td>\n",
       "      <td>35200264013</td>\n",
       "      <td>12125 Alamo Ranch Pkwy</td>\n",
       "      <td>San Antonio</td>\n",
       "      <td>1</td>\n",
       "      <td>TX</td>\n",
       "      <td>78253</td>\n",
       "      <td>10.92</td>\n",
       "    </tr>\n",
       "    <tr>\n",
       "      <th>2013-01-01 00:00:00+00:00</th>\n",
       "      <td>26.0</td>\n",
       "      <td>211817</td>\n",
       "      <td>Mueller</td>\n",
       "      <td>12</td>\n",
       "      <td>Mueller Sport Care Basic Support Level Medium ...</td>\n",
       "      <td>8.40</td>\n",
       "      <td>74676640211</td>\n",
       "      <td>74676640211</td>\n",
       "      <td>12018 Perrin Beitel Rd</td>\n",
       "      <td>San Antonio</td>\n",
       "      <td>7</td>\n",
       "      <td>TX</td>\n",
       "      <td>78217</td>\n",
       "      <td>218.40</td>\n",
       "    </tr>\n",
       "    <tr>\n",
       "      <th>2013-01-01 00:00:00+00:00</th>\n",
       "      <td>27.0</td>\n",
       "      <td>832657</td>\n",
       "      <td>Mama Marys</td>\n",
       "      <td>46</td>\n",
       "      <td>Pizza Sauce</td>\n",
       "      <td>4.65</td>\n",
       "      <td>35457770664</td>\n",
       "      <td>35457770664</td>\n",
       "      <td>12018 Perrin Beitel Rd</td>\n",
       "      <td>San Antonio</td>\n",
       "      <td>7</td>\n",
       "      <td>TX</td>\n",
       "      <td>78217</td>\n",
       "      <td>125.55</td>\n",
       "    </tr>\n",
       "    <tr>\n",
       "      <th>2013-01-01 00:00:00+00:00</th>\n",
       "      <td>54.0</td>\n",
       "      <td>213643</td>\n",
       "      <td>Mueller</td>\n",
       "      <td>12</td>\n",
       "      <td>Mueller Sport Care Basic Support Level Medium ...</td>\n",
       "      <td>8.40</td>\n",
       "      <td>74676640211</td>\n",
       "      <td>74676640211</td>\n",
       "      <td>15000 San Pedro Ave</td>\n",
       "      <td>San Antonio</td>\n",
       "      <td>8</td>\n",
       "      <td>TX</td>\n",
       "      <td>78232</td>\n",
       "      <td>453.60</td>\n",
       "    </tr>\n",
       "    <tr>\n",
       "      <th>2013-01-01 00:00:00+00:00</th>\n",
       "      <td>35.0</td>\n",
       "      <td>215469</td>\n",
       "      <td>Mueller</td>\n",
       "      <td>12</td>\n",
       "      <td>Mueller Sport Care Basic Support Level Medium ...</td>\n",
       "      <td>8.40</td>\n",
       "      <td>74676640211</td>\n",
       "      <td>74676640211</td>\n",
       "      <td>735 SW Military Dr</td>\n",
       "      <td>San Antonio</td>\n",
       "      <td>9</td>\n",
       "      <td>TX</td>\n",
       "      <td>78221</td>\n",
       "      <td>294.00</td>\n",
       "    </tr>\n",
       "    <tr>\n",
       "      <th>...</th>\n",
       "      <td>...</td>\n",
       "      <td>...</td>\n",
       "      <td>...</td>\n",
       "      <td>...</td>\n",
       "      <td>...</td>\n",
       "      <td>...</td>\n",
       "      <td>...</td>\n",
       "      <td>...</td>\n",
       "      <td>...</td>\n",
       "      <td>...</td>\n",
       "      <td>...</td>\n",
       "      <td>...</td>\n",
       "      <td>...</td>\n",
       "      <td>...</td>\n",
       "    </tr>\n",
       "    <tr>\n",
       "      <th>2017-12-31 00:00:00+00:00</th>\n",
       "      <td>21.0</td>\n",
       "      <td>619014</td>\n",
       "      <td>Halls</td>\n",
       "      <td>34</td>\n",
       "      <td>Halls Menthol Cough Suppresant/oral Anesthetic...</td>\n",
       "      <td>4.17</td>\n",
       "      <td>312546628694</td>\n",
       "      <td>312546628694</td>\n",
       "      <td>735 SW Military Dr</td>\n",
       "      <td>San Antonio</td>\n",
       "      <td>9</td>\n",
       "      <td>TX</td>\n",
       "      <td>78221</td>\n",
       "      <td>87.57</td>\n",
       "    </tr>\n",
       "    <tr>\n",
       "      <th>2017-12-31 00:00:00+00:00</th>\n",
       "      <td>32.0</td>\n",
       "      <td>620840</td>\n",
       "      <td>Halls</td>\n",
       "      <td>34</td>\n",
       "      <td>Halls Menthol Cough Suppresant/oral Anesthetic...</td>\n",
       "      <td>4.17</td>\n",
       "      <td>312546628694</td>\n",
       "      <td>312546628694</td>\n",
       "      <td>8503 NW Military Hwy</td>\n",
       "      <td>San Antonio</td>\n",
       "      <td>10</td>\n",
       "      <td>TX</td>\n",
       "      <td>78231</td>\n",
       "      <td>133.44</td>\n",
       "    </tr>\n",
       "    <tr>\n",
       "      <th>2017-12-31 00:00:00+00:00</th>\n",
       "      <td>55.0</td>\n",
       "      <td>622666</td>\n",
       "      <td>Natures Way</td>\n",
       "      <td>35</td>\n",
       "      <td>Natures Way Forskohlii - 60 Ct</td>\n",
       "      <td>5.19</td>\n",
       "      <td>33674100066</td>\n",
       "      <td>33674100066</td>\n",
       "      <td>12125 Alamo Ranch Pkwy</td>\n",
       "      <td>San Antonio</td>\n",
       "      <td>1</td>\n",
       "      <td>TX</td>\n",
       "      <td>78253</td>\n",
       "      <td>285.45</td>\n",
       "    </tr>\n",
       "    <tr>\n",
       "      <th>2017-12-31 00:00:00+00:00</th>\n",
       "      <td>100.0</td>\n",
       "      <td>598928</td>\n",
       "      <td>The First Years</td>\n",
       "      <td>33</td>\n",
       "      <td>Tomy The First Years Gumdrop Orthodontic Pacif...</td>\n",
       "      <td>6.52</td>\n",
       "      <td>71463060078</td>\n",
       "      <td>71463060078</td>\n",
       "      <td>15000 San Pedro Ave</td>\n",
       "      <td>San Antonio</td>\n",
       "      <td>8</td>\n",
       "      <td>TX</td>\n",
       "      <td>78232</td>\n",
       "      <td>652.00</td>\n",
       "    </tr>\n",
       "    <tr>\n",
       "      <th>2017-12-31 00:00:00+00:00</th>\n",
       "      <td>82.0</td>\n",
       "      <td>913000</td>\n",
       "      <td>Choice</td>\n",
       "      <td>50</td>\n",
       "      <td>Choice Organic Teas Black Tea Classic Black - ...</td>\n",
       "      <td>5.20</td>\n",
       "      <td>47445919221</td>\n",
       "      <td>47445919221</td>\n",
       "      <td>8503 NW Military Hwy</td>\n",
       "      <td>San Antonio</td>\n",
       "      <td>10</td>\n",
       "      <td>TX</td>\n",
       "      <td>78231</td>\n",
       "      <td>426.40</td>\n",
       "    </tr>\n",
       "  </tbody>\n",
       "</table>\n",
       "<p>913000 rows × 14 columns</p>\n",
       "</div>"
      ],
      "text/plain": [
       "                           sale_amount  sale_id       item_brand  item_id  \\\n",
       "sale_date                                                                   \n",
       "2013-01-01 00:00:00+00:00         13.0        1         Riceland        1   \n",
       "2013-01-01 00:00:00+00:00         26.0   211817          Mueller       12   \n",
       "2013-01-01 00:00:00+00:00         27.0   832657       Mama Marys       46   \n",
       "2013-01-01 00:00:00+00:00         54.0   213643          Mueller       12   \n",
       "2013-01-01 00:00:00+00:00         35.0   215469          Mueller       12   \n",
       "...                                ...      ...              ...      ...   \n",
       "2017-12-31 00:00:00+00:00         21.0   619014            Halls       34   \n",
       "2017-12-31 00:00:00+00:00         32.0   620840            Halls       34   \n",
       "2017-12-31 00:00:00+00:00         55.0   622666      Natures Way       35   \n",
       "2017-12-31 00:00:00+00:00        100.0   598928  The First Years       33   \n",
       "2017-12-31 00:00:00+00:00         82.0   913000           Choice       50   \n",
       "\n",
       "                                                                   item_name  \\\n",
       "sale_date                                                                      \n",
       "2013-01-01 00:00:00+00:00                     Riceland American Jazmine Rice   \n",
       "2013-01-01 00:00:00+00:00  Mueller Sport Care Basic Support Level Medium ...   \n",
       "2013-01-01 00:00:00+00:00                                        Pizza Sauce   \n",
       "2013-01-01 00:00:00+00:00  Mueller Sport Care Basic Support Level Medium ...   \n",
       "2013-01-01 00:00:00+00:00  Mueller Sport Care Basic Support Level Medium ...   \n",
       "...                                                                      ...   \n",
       "2017-12-31 00:00:00+00:00  Halls Menthol Cough Suppresant/oral Anesthetic...   \n",
       "2017-12-31 00:00:00+00:00  Halls Menthol Cough Suppresant/oral Anesthetic...   \n",
       "2017-12-31 00:00:00+00:00                     Natures Way Forskohlii - 60 Ct   \n",
       "2017-12-31 00:00:00+00:00  Tomy The First Years Gumdrop Orthodontic Pacif...   \n",
       "2017-12-31 00:00:00+00:00  Choice Organic Teas Black Tea Classic Black - ...   \n",
       "\n",
       "                           item_price    item_upc12    item_upc14  \\\n",
       "sale_date                                                           \n",
       "2013-01-01 00:00:00+00:00        0.84   35200264013   35200264013   \n",
       "2013-01-01 00:00:00+00:00        8.40   74676640211   74676640211   \n",
       "2013-01-01 00:00:00+00:00        4.65   35457770664   35457770664   \n",
       "2013-01-01 00:00:00+00:00        8.40   74676640211   74676640211   \n",
       "2013-01-01 00:00:00+00:00        8.40   74676640211   74676640211   \n",
       "...                               ...           ...           ...   \n",
       "2017-12-31 00:00:00+00:00        4.17  312546628694  312546628694   \n",
       "2017-12-31 00:00:00+00:00        4.17  312546628694  312546628694   \n",
       "2017-12-31 00:00:00+00:00        5.19   33674100066   33674100066   \n",
       "2017-12-31 00:00:00+00:00        6.52   71463060078   71463060078   \n",
       "2017-12-31 00:00:00+00:00        5.20   47445919221   47445919221   \n",
       "\n",
       "                                    store_address   store_city  store_id  \\\n",
       "sale_date                                                                  \n",
       "2013-01-01 00:00:00+00:00  12125 Alamo Ranch Pkwy  San Antonio         1   \n",
       "2013-01-01 00:00:00+00:00  12018 Perrin Beitel Rd  San Antonio         7   \n",
       "2013-01-01 00:00:00+00:00  12018 Perrin Beitel Rd  San Antonio         7   \n",
       "2013-01-01 00:00:00+00:00     15000 San Pedro Ave  San Antonio         8   \n",
       "2013-01-01 00:00:00+00:00      735 SW Military Dr  San Antonio         9   \n",
       "...                                           ...          ...       ...   \n",
       "2017-12-31 00:00:00+00:00      735 SW Military Dr  San Antonio         9   \n",
       "2017-12-31 00:00:00+00:00    8503 NW Military Hwy  San Antonio        10   \n",
       "2017-12-31 00:00:00+00:00  12125 Alamo Ranch Pkwy  San Antonio         1   \n",
       "2017-12-31 00:00:00+00:00     15000 San Pedro Ave  San Antonio         8   \n",
       "2017-12-31 00:00:00+00:00    8503 NW Military Hwy  San Antonio        10   \n",
       "\n",
       "                          store_state store_zipcode  revenue  \n",
       "sale_date                                                     \n",
       "2013-01-01 00:00:00+00:00          TX         78253    10.92  \n",
       "2013-01-01 00:00:00+00:00          TX         78217   218.40  \n",
       "2013-01-01 00:00:00+00:00          TX         78217   125.55  \n",
       "2013-01-01 00:00:00+00:00          TX         78232   453.60  \n",
       "2013-01-01 00:00:00+00:00          TX         78221   294.00  \n",
       "...                               ...           ...      ...  \n",
       "2017-12-31 00:00:00+00:00          TX         78221    87.57  \n",
       "2017-12-31 00:00:00+00:00          TX         78231   133.44  \n",
       "2017-12-31 00:00:00+00:00          TX         78253   285.45  \n",
       "2017-12-31 00:00:00+00:00          TX         78232   652.00  \n",
       "2017-12-31 00:00:00+00:00          TX         78231   426.40  \n",
       "\n",
       "[913000 rows x 14 columns]"
      ]
     },
     "execution_count": 7,
     "metadata": {},
     "output_type": "execute_result"
    }
   ],
   "source": [
    "# Create a new column called 'revenue' and drop 'sale_amount' and 'item_price'.\n",
    "store['revenue'] = store.sale_amount * store.item_price\n",
    "store"
   ]
  },
  {
   "cell_type": "code",
   "execution_count": 8,
   "id": "c9fbb9b1",
   "metadata": {},
   "outputs": [
    {
     "name": "stdout",
     "output_type": "stream",
     "text": [
      "<class 'pandas.core.frame.DataFrame'>\n",
      "DatetimeIndex: 913000 entries, 2013-01-01 00:00:00+00:00 to 2017-12-31 00:00:00+00:00\n",
      "Data columns (total 14 columns):\n",
      " #   Column         Non-Null Count   Dtype  \n",
      "---  ------         --------------   -----  \n",
      " 0   sale_amount    913000 non-null  float64\n",
      " 1   sale_id        913000 non-null  int64  \n",
      " 2   item_brand     913000 non-null  object \n",
      " 3   item_id        913000 non-null  int64  \n",
      " 4   item_name      913000 non-null  object \n",
      " 5   item_price     913000 non-null  float64\n",
      " 6   item_upc12     913000 non-null  object \n",
      " 7   item_upc14     913000 non-null  object \n",
      " 8   store_address  913000 non-null  object \n",
      " 9   store_city     913000 non-null  object \n",
      " 10  store_id       913000 non-null  int64  \n",
      " 11  store_state    913000 non-null  object \n",
      " 12  store_zipcode  913000 non-null  object \n",
      " 13  revenue        913000 non-null  float64\n",
      "dtypes: float64(3), int64(3), object(8)\n",
      "memory usage: 104.5+ MB\n"
     ]
    }
   ],
   "source": [
    "store.info()"
   ]
  },
  {
   "cell_type": "code",
   "execution_count": 9,
   "id": "05b33782",
   "metadata": {},
   "outputs": [],
   "source": [
    "# Make list of all columns to drop except unique identifiers.\n",
    "columns_to_drop = ['item_upc12','item_upc14','sale_amount','item_price','store_state','store_city','sale_id','item_name','item_brand']"
   ]
  },
  {
   "cell_type": "code",
   "execution_count": 10,
   "id": "5762c8f1",
   "metadata": {},
   "outputs": [],
   "source": [
    "# Create a dataframe for a description of the items to tie back to later.\n",
    "item_details = store[['item_id','item_brand','item_name','item_price']].set_index('item_id')"
   ]
  },
  {
   "cell_type": "code",
   "execution_count": 11,
   "id": "b67fb992",
   "metadata": {},
   "outputs": [
    {
     "data": {
      "text/html": [
       "<div>\n",
       "<style scoped>\n",
       "    .dataframe tbody tr th:only-of-type {\n",
       "        vertical-align: middle;\n",
       "    }\n",
       "\n",
       "    .dataframe tbody tr th {\n",
       "        vertical-align: top;\n",
       "    }\n",
       "\n",
       "    .dataframe thead th {\n",
       "        text-align: right;\n",
       "    }\n",
       "</style>\n",
       "<table border=\"1\" class=\"dataframe\">\n",
       "  <thead>\n",
       "    <tr style=\"text-align: right;\">\n",
       "      <th></th>\n",
       "      <th>item_brand</th>\n",
       "      <th>item_name</th>\n",
       "      <th>item_price</th>\n",
       "    </tr>\n",
       "    <tr>\n",
       "      <th>item_id</th>\n",
       "      <th></th>\n",
       "      <th></th>\n",
       "      <th></th>\n",
       "    </tr>\n",
       "  </thead>\n",
       "  <tbody>\n",
       "    <tr>\n",
       "      <th>1</th>\n",
       "      <td>Riceland</td>\n",
       "      <td>Riceland American Jazmine Rice</td>\n",
       "      <td>0.84</td>\n",
       "    </tr>\n",
       "    <tr>\n",
       "      <th>12</th>\n",
       "      <td>Mueller</td>\n",
       "      <td>Mueller Sport Care Basic Support Level Medium ...</td>\n",
       "      <td>8.40</td>\n",
       "    </tr>\n",
       "    <tr>\n",
       "      <th>46</th>\n",
       "      <td>Mama Marys</td>\n",
       "      <td>Pizza Sauce</td>\n",
       "      <td>4.65</td>\n",
       "    </tr>\n",
       "    <tr>\n",
       "      <th>12</th>\n",
       "      <td>Mueller</td>\n",
       "      <td>Mueller Sport Care Basic Support Level Medium ...</td>\n",
       "      <td>8.40</td>\n",
       "    </tr>\n",
       "    <tr>\n",
       "      <th>12</th>\n",
       "      <td>Mueller</td>\n",
       "      <td>Mueller Sport Care Basic Support Level Medium ...</td>\n",
       "      <td>8.40</td>\n",
       "    </tr>\n",
       "    <tr>\n",
       "      <th>...</th>\n",
       "      <td>...</td>\n",
       "      <td>...</td>\n",
       "      <td>...</td>\n",
       "    </tr>\n",
       "    <tr>\n",
       "      <th>34</th>\n",
       "      <td>Halls</td>\n",
       "      <td>Halls Menthol Cough Suppresant/oral Anesthetic...</td>\n",
       "      <td>4.17</td>\n",
       "    </tr>\n",
       "    <tr>\n",
       "      <th>34</th>\n",
       "      <td>Halls</td>\n",
       "      <td>Halls Menthol Cough Suppresant/oral Anesthetic...</td>\n",
       "      <td>4.17</td>\n",
       "    </tr>\n",
       "    <tr>\n",
       "      <th>35</th>\n",
       "      <td>Natures Way</td>\n",
       "      <td>Natures Way Forskohlii - 60 Ct</td>\n",
       "      <td>5.19</td>\n",
       "    </tr>\n",
       "    <tr>\n",
       "      <th>33</th>\n",
       "      <td>The First Years</td>\n",
       "      <td>Tomy The First Years Gumdrop Orthodontic Pacif...</td>\n",
       "      <td>6.52</td>\n",
       "    </tr>\n",
       "    <tr>\n",
       "      <th>50</th>\n",
       "      <td>Choice</td>\n",
       "      <td>Choice Organic Teas Black Tea Classic Black - ...</td>\n",
       "      <td>5.20</td>\n",
       "    </tr>\n",
       "  </tbody>\n",
       "</table>\n",
       "<p>913000 rows × 3 columns</p>\n",
       "</div>"
      ],
      "text/plain": [
       "              item_brand                                          item_name  \\\n",
       "item_id                                                                       \n",
       "1               Riceland                     Riceland American Jazmine Rice   \n",
       "12               Mueller  Mueller Sport Care Basic Support Level Medium ...   \n",
       "46            Mama Marys                                        Pizza Sauce   \n",
       "12               Mueller  Mueller Sport Care Basic Support Level Medium ...   \n",
       "12               Mueller  Mueller Sport Care Basic Support Level Medium ...   \n",
       "...                  ...                                                ...   \n",
       "34                 Halls  Halls Menthol Cough Suppresant/oral Anesthetic...   \n",
       "34                 Halls  Halls Menthol Cough Suppresant/oral Anesthetic...   \n",
       "35           Natures Way                     Natures Way Forskohlii - 60 Ct   \n",
       "33       The First Years  Tomy The First Years Gumdrop Orthodontic Pacif...   \n",
       "50                Choice  Choice Organic Teas Black Tea Classic Black - ...   \n",
       "\n",
       "         item_price  \n",
       "item_id              \n",
       "1              0.84  \n",
       "12             8.40  \n",
       "46             4.65  \n",
       "12             8.40  \n",
       "12             8.40  \n",
       "...             ...  \n",
       "34             4.17  \n",
       "34             4.17  \n",
       "35             5.19  \n",
       "33             6.52  \n",
       "50             5.20  \n",
       "\n",
       "[913000 rows x 3 columns]"
      ]
     },
     "execution_count": 11,
     "metadata": {},
     "output_type": "execute_result"
    }
   ],
   "source": [
    "item_details"
   ]
  },
  {
   "cell_type": "code",
   "execution_count": 12,
   "id": "1439129c",
   "metadata": {},
   "outputs": [],
   "source": [
    "df = store.drop(columns=columns_to_drop)"
   ]
  },
  {
   "cell_type": "code",
   "execution_count": 13,
   "id": "33b2cc51",
   "metadata": {},
   "outputs": [
    {
     "data": {
      "text/html": [
       "<div>\n",
       "<style scoped>\n",
       "    .dataframe tbody tr th:only-of-type {\n",
       "        vertical-align: middle;\n",
       "    }\n",
       "\n",
       "    .dataframe tbody tr th {\n",
       "        vertical-align: top;\n",
       "    }\n",
       "\n",
       "    .dataframe thead th {\n",
       "        text-align: right;\n",
       "    }\n",
       "</style>\n",
       "<table border=\"1\" class=\"dataframe\">\n",
       "  <thead>\n",
       "    <tr style=\"text-align: right;\">\n",
       "      <th></th>\n",
       "      <th>item_id</th>\n",
       "      <th>store_address</th>\n",
       "      <th>store_id</th>\n",
       "      <th>store_zipcode</th>\n",
       "      <th>revenue</th>\n",
       "    </tr>\n",
       "    <tr>\n",
       "      <th>sale_date</th>\n",
       "      <th></th>\n",
       "      <th></th>\n",
       "      <th></th>\n",
       "      <th></th>\n",
       "      <th></th>\n",
       "    </tr>\n",
       "  </thead>\n",
       "  <tbody>\n",
       "    <tr>\n",
       "      <th>2013-01-01 00:00:00+00:00</th>\n",
       "      <td>1</td>\n",
       "      <td>12125 Alamo Ranch Pkwy</td>\n",
       "      <td>1</td>\n",
       "      <td>78253</td>\n",
       "      <td>10.92</td>\n",
       "    </tr>\n",
       "    <tr>\n",
       "      <th>2013-01-01 00:00:00+00:00</th>\n",
       "      <td>12</td>\n",
       "      <td>12018 Perrin Beitel Rd</td>\n",
       "      <td>7</td>\n",
       "      <td>78217</td>\n",
       "      <td>218.40</td>\n",
       "    </tr>\n",
       "    <tr>\n",
       "      <th>2013-01-01 00:00:00+00:00</th>\n",
       "      <td>46</td>\n",
       "      <td>12018 Perrin Beitel Rd</td>\n",
       "      <td>7</td>\n",
       "      <td>78217</td>\n",
       "      <td>125.55</td>\n",
       "    </tr>\n",
       "    <tr>\n",
       "      <th>2013-01-01 00:00:00+00:00</th>\n",
       "      <td>12</td>\n",
       "      <td>15000 San Pedro Ave</td>\n",
       "      <td>8</td>\n",
       "      <td>78232</td>\n",
       "      <td>453.60</td>\n",
       "    </tr>\n",
       "    <tr>\n",
       "      <th>2013-01-01 00:00:00+00:00</th>\n",
       "      <td>12</td>\n",
       "      <td>735 SW Military Dr</td>\n",
       "      <td>9</td>\n",
       "      <td>78221</td>\n",
       "      <td>294.00</td>\n",
       "    </tr>\n",
       "    <tr>\n",
       "      <th>...</th>\n",
       "      <td>...</td>\n",
       "      <td>...</td>\n",
       "      <td>...</td>\n",
       "      <td>...</td>\n",
       "      <td>...</td>\n",
       "    </tr>\n",
       "    <tr>\n",
       "      <th>2017-12-31 00:00:00+00:00</th>\n",
       "      <td>34</td>\n",
       "      <td>735 SW Military Dr</td>\n",
       "      <td>9</td>\n",
       "      <td>78221</td>\n",
       "      <td>87.57</td>\n",
       "    </tr>\n",
       "    <tr>\n",
       "      <th>2017-12-31 00:00:00+00:00</th>\n",
       "      <td>34</td>\n",
       "      <td>8503 NW Military Hwy</td>\n",
       "      <td>10</td>\n",
       "      <td>78231</td>\n",
       "      <td>133.44</td>\n",
       "    </tr>\n",
       "    <tr>\n",
       "      <th>2017-12-31 00:00:00+00:00</th>\n",
       "      <td>35</td>\n",
       "      <td>12125 Alamo Ranch Pkwy</td>\n",
       "      <td>1</td>\n",
       "      <td>78253</td>\n",
       "      <td>285.45</td>\n",
       "    </tr>\n",
       "    <tr>\n",
       "      <th>2017-12-31 00:00:00+00:00</th>\n",
       "      <td>33</td>\n",
       "      <td>15000 San Pedro Ave</td>\n",
       "      <td>8</td>\n",
       "      <td>78232</td>\n",
       "      <td>652.00</td>\n",
       "    </tr>\n",
       "    <tr>\n",
       "      <th>2017-12-31 00:00:00+00:00</th>\n",
       "      <td>50</td>\n",
       "      <td>8503 NW Military Hwy</td>\n",
       "      <td>10</td>\n",
       "      <td>78231</td>\n",
       "      <td>426.40</td>\n",
       "    </tr>\n",
       "  </tbody>\n",
       "</table>\n",
       "<p>913000 rows × 5 columns</p>\n",
       "</div>"
      ],
      "text/plain": [
       "                           item_id           store_address  store_id  \\\n",
       "sale_date                                                              \n",
       "2013-01-01 00:00:00+00:00        1  12125 Alamo Ranch Pkwy         1   \n",
       "2013-01-01 00:00:00+00:00       12  12018 Perrin Beitel Rd         7   \n",
       "2013-01-01 00:00:00+00:00       46  12018 Perrin Beitel Rd         7   \n",
       "2013-01-01 00:00:00+00:00       12     15000 San Pedro Ave         8   \n",
       "2013-01-01 00:00:00+00:00       12      735 SW Military Dr         9   \n",
       "...                            ...                     ...       ...   \n",
       "2017-12-31 00:00:00+00:00       34      735 SW Military Dr         9   \n",
       "2017-12-31 00:00:00+00:00       34    8503 NW Military Hwy        10   \n",
       "2017-12-31 00:00:00+00:00       35  12125 Alamo Ranch Pkwy         1   \n",
       "2017-12-31 00:00:00+00:00       33     15000 San Pedro Ave         8   \n",
       "2017-12-31 00:00:00+00:00       50    8503 NW Military Hwy        10   \n",
       "\n",
       "                          store_zipcode  revenue  \n",
       "sale_date                                         \n",
       "2013-01-01 00:00:00+00:00         78253    10.92  \n",
       "2013-01-01 00:00:00+00:00         78217   218.40  \n",
       "2013-01-01 00:00:00+00:00         78217   125.55  \n",
       "2013-01-01 00:00:00+00:00         78232   453.60  \n",
       "2013-01-01 00:00:00+00:00         78221   294.00  \n",
       "...                                 ...      ...  \n",
       "2017-12-31 00:00:00+00:00         78221    87.57  \n",
       "2017-12-31 00:00:00+00:00         78231   133.44  \n",
       "2017-12-31 00:00:00+00:00         78253   285.45  \n",
       "2017-12-31 00:00:00+00:00         78232   652.00  \n",
       "2017-12-31 00:00:00+00:00         78231   426.40  \n",
       "\n",
       "[913000 rows x 5 columns]"
      ]
     },
     "execution_count": 13,
     "metadata": {},
     "output_type": "execute_result"
    }
   ],
   "source": [
    "df"
   ]
  },
  {
   "cell_type": "markdown",
   "id": "4e630370",
   "metadata": {},
   "source": [
    "### Percentage-Based Splitting"
   ]
  },
  {
   "cell_type": "code",
   "execution_count": 14,
   "id": "1e849b1d",
   "metadata": {},
   "outputs": [],
   "source": [
    "# train_size = .75\n",
    "# n = df.shape[0]\n",
    "# test_start_index = round(train_size * n)\n",
    "# \n",
    "# train = df[:test_start_index]\n",
    "# test = df[test_start_index:]\n",
    "# \n",
    "# plt.plot(train.index, train.revenue)\n",
    "# plt.plot(test.index, test.revenue)"
   ]
  },
  {
   "cell_type": "markdown",
   "id": "c0e3aa33",
   "metadata": {},
   "source": [
    "### Human-Based Splitting"
   ]
  },
  {
   "cell_type": "code",
   "execution_count": 15,
   "id": "b501fc09",
   "metadata": {},
   "outputs": [
    {
     "data": {
      "text/plain": [
       "[<matplotlib.lines.Line2D at 0x7f84dcb8cf70>]"
      ]
     },
     "execution_count": 15,
     "metadata": {},
     "output_type": "execute_result"
    },
    {
     "data": {
      "image/png": "[encoded data removed]",
      "text/plain": [
       "<Figure size 432x288 with 1 Axes>"
      ]
     },
     "metadata": {
      "needs_background": "light"
     },
     "output_type": "display_data"
    }
   ],
   "source": [
    "train = df.loc[:'2016']\n",
    "test = df.loc['2017':]\n",
    "\n",
    "plt.plot(train.index, train.revenue)\n",
    "plt.plot(test.index, test.revenue)"
   ]
  },
  {
   "cell_type": "code",
   "execution_count": 16,
   "id": "a06831f9",
   "metadata": {},
   "outputs": [
    {
     "data": {
      "text/plain": [
       "sale_date\n",
       "2013-01-01 00:00:00+00:00     10.92\n",
       "2013-01-01 00:00:00+00:00    218.40\n",
       "2013-01-01 00:00:00+00:00    125.55\n",
       "2013-01-01 00:00:00+00:00    453.60\n",
       "2013-01-01 00:00:00+00:00    294.00\n",
       "                              ...  \n",
       "2016-12-31 00:00:00+00:00    263.40\n",
       "2016-12-31 00:00:00+00:00     92.07\n",
       "2016-12-31 00:00:00+00:00    284.13\n",
       "2016-12-31 00:00:00+00:00     53.38\n",
       "2016-12-31 00:00:00+00:00    482.48\n",
       "Name: revenue, Length: 730500, dtype: float64"
      ]
     },
     "execution_count": 16,
     "metadata": {},
     "output_type": "execute_result"
    }
   ],
   "source": [
    "# I'll set total revenue as the target and store into a variable called 'target'\n",
    "target = train.revenue\n",
    "target"
   ]
  },
  {
   "cell_type": "markdown",
   "id": "cbd4240a",
   "metadata": {},
   "source": [
    "### Plot a distribution of the target."
   ]
  },
  {
   "cell_type": "code",
   "execution_count": 17,
   "id": "f6531b23",
   "metadata": {},
   "outputs": [
    {
     "data": {
      "text/plain": [
       "Text(0.5, 0, 'revenue')"
      ]
     },
     "execution_count": 17,
     "metadata": {},
     "output_type": "execute_result"
    },
    {
     "data": {
      "image/png": "[encoded data removed]",
      "text/plain": [
       "<Figure size 432x288 with 1 Axes>"
      ]
     },
     "metadata": {
      "needs_background": "light"
     },
     "output_type": "display_data"
    }
   ],
   "source": [
    "plt.hist(target);\n",
    "plt.xlabel('revenue')"
   ]
  },
  {
   "cell_type": "markdown",
   "id": "255ad1f5",
   "metadata": {},
   "source": [
    "### Create a separate column for each store and plot a distribution of revenue for each location."
   ]
  },
  {
   "cell_type": "code",
   "execution_count": 18,
   "id": "6b610550",
   "metadata": {},
   "outputs": [],
   "source": [
    "store_id = df.store_id"
   ]
  },
  {
   "cell_type": "code",
   "execution_count": 19,
   "id": "6c55ccef",
   "metadata": {},
   "outputs": [
    {
     "data": {
      "text/plain": [
       "Text(0.5, 0, 'Time (hr)')"
      ]
     },
     "execution_count": 19,
     "metadata": {},
     "output_type": "execute_result"
    },
    {
     "data": {
      "image/png": "[encoded data removed]",
      "text/plain": [
       "<Figure size 432x288 with 1 Axes>"
      ]
     },
     "metadata": {
      "needs_background": "light"
     },
     "output_type": "display_data"
    }
   ],
   "source": [
    "target.plot(alpha=.50)\n",
    "plt.ylabel('revenue')\n",
    "plt.xlabel('Time (hr)')"
   ]
  },
  {
   "cell_type": "markdown",
   "id": "c539e94b",
   "metadata": {},
   "source": [
    "### Takaways\n",
    "* There seems to be an hourly seasonality.\n",
    "* There seems to be a multiplicative seasonality. "
   ]
  },
  {
   "cell_type": "code",
   "execution_count": 20,
   "id": "0d94973e",
   "metadata": {},
   "outputs": [
    {
     "data": {
      "text/plain": [
       "Text(0, 0.5, 'Average Revenue')"
      ]
     },
     "execution_count": 20,
     "metadata": {},
     "output_type": "execute_result"
    },
    {
     "data": {
      "image/png": "[encoded data removed]",
      "text/plain": [
       "<Figure size 432x288 with 1 Axes>"
      ]
     },
     "metadata": {
      "needs_background": "light"
     },
     "output_type": "display_data"
    }
   ],
   "source": [
    "target.resample('d').mean().plot(title = 'Daily Average')\n",
    "plt.ylabel('Average Revenue')"
   ]
  },
  {
   "cell_type": "markdown",
   "id": "783b607c",
   "metadata": {},
   "source": [
    "### Takeaway\n",
    "* Company-wide there seems to be a daily seasonality.\n",
    "* Seasonality again seems multiplicative."
   ]
  },
  {
   "cell_type": "code",
   "execution_count": 21,
   "id": "a66e9901",
   "metadata": {},
   "outputs": [
    {
     "data": {
      "text/plain": [
       "<AxesSubplot:title={'center':'Weekly Average'}, xlabel='sale_date'>"
      ]
     },
     "execution_count": 21,
     "metadata": {},
     "output_type": "execute_result"
    },
    {
     "data": {
      "image/png": "[encoded data removed]",
      "text/plain": [
       "<Figure size 432x288 with 1 Axes>"
      ]
     },
     "metadata": {
      "needs_background": "light"
     },
     "output_type": "display_data"
    }
   ],
   "source": [
    "target.resample('w').mean().plot(title = 'Weekly Average')"
   ]
  },
  {
   "cell_type": "markdown",
   "id": "45ede876",
   "metadata": {},
   "source": [
    "### Takeaways\n",
    "* Company-wide there seems to be a weekly seasonality.\n",
    "* Maybe a multiplicative seasonality again."
   ]
  },
  {
   "cell_type": "code",
   "execution_count": 22,
   "id": "964b4246",
   "metadata": {},
   "outputs": [
    {
     "data": {
      "text/plain": [
       "<AxesSubplot:title={'center':'Monthly Average'}, xlabel='sale_date'>"
      ]
     },
     "execution_count": 22,
     "metadata": {},
     "output_type": "execute_result"
    },
    {
     "data": {
      "image/png": "[encoded data removed]",
      "text/plain": [
       "<Figure size 432x288 with 1 Axes>"
      ]
     },
     "metadata": {
      "needs_background": "light"
     },
     "output_type": "display_data"
    }
   ],
   "source": [
    "target.resample('M').mean().plot(title = 'Monthly Average')"
   ]
  },
  {
   "cell_type": "markdown",
   "id": "151a905e",
   "metadata": {},
   "source": [
    "### Takeaways\n",
    "* Company-wide there seems to be a monthly seasonality.\n",
    "* Maybe a multiplicative seasonality again."
   ]
  },
  {
   "cell_type": "code",
   "execution_count": 23,
   "id": "ce00835e",
   "metadata": {},
   "outputs": [
    {
     "data": {
      "text/plain": [
       "<matplotlib.legend.Legend at 0x7f84ed741430>"
      ]
     },
     "execution_count": 23,
     "metadata": {},
     "output_type": "execute_result"
    },
    {
     "data": {
      "image/png": "[encoded data removed]",
      "text/plain": [
       "<Figure size 432x288 with 1 Axes>"
      ]
     },
     "metadata": {
      "needs_background": "light"
     },
     "output_type": "display_data"
    }
   ],
   "source": [
    "ax = target.plot(alpha=.5, label='Hourly')\n",
    "target.resample('D').mean().plot(ax=ax, alpha=.5, label='Daily')\n",
    "target.resample('W').mean().plot(ax=ax, alpha=.8, label='Weekly')\n",
    "target.resample('M').mean().plot(ax=ax, label='Monthly')\n",
    "target.resample('Y').mean().plot(label='Yearly')\n",
    "ax.legend(loc = 'upper left')"
   ]
  },
  {
   "cell_type": "markdown",
   "id": "8a6f4889",
   "metadata": {},
   "source": [
    "### Create a separate dataframe for each store and explore each store individually"
   ]
  },
  {
   "cell_type": "code",
   "execution_count": 25,
   "id": "c731eb5b",
   "metadata": {},
   "outputs": [],
   "source": [
    "store_1 = train[train.store_id == 1]\n",
    "store_2 = train[train.store_id == 2]\n",
    "store_3 = train[train.store_id == 3]\n",
    "store_4 = train[train.store_id == 4]\n",
    "store_5 = train[train.store_id == 5]\n",
    "store_6 = train[train.store_id == 6]\n",
    "store_7 = train[train.store_id == 7]\n",
    "store_8 = train[train.store_id == 8]\n",
    "store_9 = train[train.store_id == 9]\n",
    "store_10 = train[train.store_id == 10]"
   ]
  },
  {
   "cell_type": "code",
   "execution_count": null,
   "id": "8699ddf4",
   "metadata": {},
   "outputs": [],
   "source": []
  },
  {
   "cell_type": "code",
   "execution_count": null,
   "id": "76215cab",
   "metadata": {},
   "outputs": [],
   "source": []
  }
 ],
 "metadata": {
  "kernelspec": {
   "display_name": "Python 3 (ipykernel)",
   "language": "python",
   "name": "python3"
  },
  "language_info": {
   "codemirror_mode": {
    "name": "ipython",
    "version": 3
   },
   "file_extension": ".py",
   "mimetype": "text/x-python",
   "name": "python",
   "nbconvert_exporter": "python",
   "pygments_lexer": "ipython3",
   "version": "3.8.8"
  }
 },
 "nbformat": 4,
 "nbformat_minor": 5
}
